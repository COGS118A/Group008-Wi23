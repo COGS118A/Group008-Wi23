{
 "cells": [
  {
   "cell_type": "markdown",
   "metadata": {},
   "source": [
    "# COGS 118A - Project Checkpoint"
   ]
  },
  {
   "cell_type": "markdown",
   "metadata": {},
   "source": [
    "# Names\n",
    "\n",
    "- George Liu, A15836054\n",
    "- Xinyao Yi, A59019592\n",
    "- Yingnan Yang, A16018172"
   ]
  },
  {
   "cell_type": "markdown",
   "metadata": {},
   "source": [
    "# Title\n",
    "\n",
    "## Handwritten Classification on MNIST dataset w/Different Models: Tailored to Checks"
   ]
  },
  {
   "cell_type": "markdown",
   "metadata": {},
   "source": [
    "# Abstract \n",
    "\n",
    "Our goal is to build multiple models that accurately classfies handwritten digits, and understand how different hyperparameters affect the predictions and how to choose the best ones for this specific task. \n",
    "\n",
    "We plan to use the MNIST handwritten dataset, which holds data for more than 70,000 images. With our data, we plan to build a baseline model using the k-NN algorithm introduced in class, and then evaluate the error through a variety of metrics, and finally choosing one based on both performance as well as usefulness in the real world (some metrics don't make logical sense b/c of the dataset structure).\n",
    "\n",
    "Further, we plan to create a neural network. We will have to one hot encode the dataset, then choose an optimizer, and then also a loss function. We plan to use both recurrent as well as convolutional neural networks to understand which model fits better for this specific problem, and why. Finally, we will be able to evaluate it the model in the same way as our knn model, and compare the models.\n",
    "\n",
    "Finally, from the better model, we will use cosine/jaccard simliarity metric to evaluate the most similar digits to a given input image using vector representation first (comparing pixels by pixels). This will be useful because it shows the possible errors that the model may have, and what we should do to prevent them. For example, we can hypothesize that digits 4 and 9 are very similar in nature when we write, so one application in real life is to firmly distinguish them on checks. If the vector representation performs subpar, we plan to evaluate using a convolutional neural network to account for nearby pixels.\n",
    "\n",
    "After all this, we will apply our model onto a simulated check which we will write ourselves, upload as test data and finally use our model to see how the model performs."
   ]
  },
  {
   "cell_type": "markdown",
   "metadata": {},
   "source": [
    "# Background\n",
    "\n",
    "Prior work using this dataset has included deep learning optimization of learning rates, attacks/defenses on adversial training, and large margin classification. In our project, we aim to distiguish the difference between different hyperparameters, including but not limited to speed and accuracy. We test optimizers like rmsprop, adam, and sgd, which are usually variant in speed and generalization but not always (and can also largely depend on the learning rate). This is important for proof of convergence, and dynamic bounds, which in theory are good ideas but need to be tested on simpler, small scale models before being able to be understood and predict how they will react on large scale projects <sup>[1](#adaptivelearningrate)</sup>. In addition, handwritten digits can also be expanded into a broader topic of just handwritten words, and how to classify that. This includes ideas such as encoder/decoder neural networks, which all the parameters build upon the backs of more basic models like our handwritten digit classifiers <sup>[2](#handwritten)</sup>. Since the logic from building ground up is the same, being able to identify which parameters are important to use and how to choose them in our digit classifier is key to success in larger projects.\n",
    "\n",
    "\n",
    "\n",
    "\n"
   ]
  },
  {
   "cell_type": "markdown",
   "metadata": {},
   "source": [
    "# Research Problem\n",
    "\n",
    "Sometimes, when we pass checks through our banks we get errors because of our handwriting. The goal of the project is to develop and compare KNN and neural network models which can both accurately classify the digits in the MNIST dataset to try and understand how models in real life work and what elements are considered when building them. The models will be evaluated based on their accuracy, which will be found as the percentage of correctly classified digits. In order to accurately classify these labels, we will be using some gradient descent which was described in class to minimize our loss. Finally, to prevent these errors in real life, we will create similiarity metrics between images, so when combined with real life context, help understand how to distinguish digits and which digits commonly have errors.\n",
    "\n",
    "\n",
    "We aim to test different models and different hyperparameters not only to determinine the similarity between distinct handwritten digits, but also to understand the different hyperparameters used in our model and how to predict results from them in order to tell when they are useful for further projects.\n",
    "\n",
    "To directly solve our research problem, we will test our model on checks that we will self write to see how the model performs."
   ]
  },
  {
   "cell_type": "markdown",
   "metadata": {},
   "source": [
    "# Data\n",
    "\n",
    "Our data is the MNIST dataset which can easily downloaded through tensorflow and keras, which is what we are going to use.\n",
    "Each observation consists of a handwritten digit which can be from 0-9, size 28x28 pixels and 70,000 total images. Here is a link to the [dataset.](https://github.com/tensorflow/datasets/blob/master/tensorflow_datasets/image_classification/mnist.py)\n",
    "\n",
    "We will need to normalize the images, meaning rescaling the pixel values so that they are all consistent. Since we are dealing with images, we can just use the pixels as our range. The max value of a pixel is 255, so if we divide each image by 255, the pixels should all be in the range of 0-1.\n",
    "\n",
    "Additionally, the dataset is huge. For knn, this means our training is going to take forever, which is why we randomly sampled a subset of images from the train,val,test sections. We plan to adjust this as we go along. \n",
    "\n",
    "For the neural network, we probably will take a similar approach in sampling the data, but because it is a different model, the training time will differ. Therefore, we will decide when we implement it.\n",
    "\n"
   ]
  },
  {
   "cell_type": "code",
   "execution_count": 1,
   "metadata": {},
   "outputs": [
    {
     "name": "stderr",
     "output_type": "stream",
     "text": [
      "2023-03-03 01:40:51.980011: I tensorflow/core/platform/cpu_feature_guard.cc:193] This TensorFlow binary is optimized with oneAPI Deep Neural Network Library (oneDNN) to use the following CPU instructions in performance-critical operations:  AVX2 AVX512F FMA\n",
      "To enable them in other operations, rebuild TensorFlow with the appropriate compiler flags.\n",
      "2023-03-03 01:40:52.193992: W tensorflow/compiler/xla/stream_executor/platform/default/dso_loader.cc:64] Could not load dynamic library 'libcudart.so.11.0'; dlerror: libcudart.so.11.0: cannot open shared object file: No such file or directory\n",
      "2023-03-03 01:40:52.194035: I tensorflow/compiler/xla/stream_executor/cuda/cudart_stub.cc:29] Ignore above cudart dlerror if you do not have a GPU set up on your machine.\n",
      "2023-03-03 01:40:54.109955: W tensorflow/compiler/xla/stream_executor/platform/default/dso_loader.cc:64] Could not load dynamic library 'libnvinfer.so.7'; dlerror: libnvinfer.so.7: cannot open shared object file: No such file or directory\n",
      "2023-03-03 01:40:54.110183: W tensorflow/compiler/xla/stream_executor/platform/default/dso_loader.cc:64] Could not load dynamic library 'libnvinfer_plugin.so.7'; dlerror: libnvinfer_plugin.so.7: cannot open shared object file: No such file or directory\n",
      "2023-03-03 01:40:54.110214: W tensorflow/compiler/tf2tensorrt/utils/py_utils.cc:38] TF-TRT Warning: Cannot dlopen some TensorRT libraries. If you would like to use Nvidia GPU with TensorRT, please make sure the missing libraries mentioned above are installed properly.\n"
     ]
    },
    {
     "name": "stdout",
     "output_type": "stream",
     "text": [
      "Training set shape: (45000, 28, 28) (45000,)\n",
      "Validation set shape: (15000, 28, 28) (15000,)\n",
      "Testing set shape: (10000, 28, 28) (10000,)\n"
     ]
    }
   ],
   "source": [
    "import tensorflow as tf\n",
    "from tensorflow.keras.datasets import mnist\n",
    "\n",
    "# Load the dataset\n",
    "(x_train, y_train), (x_test, y_test) = mnist.load_data()\n",
    "\n",
    "# Split into train, validation, and test sets\n",
    "train_split = int(0.75 * len(x_train))\n",
    "val_split = int(0.25 * len(x_train))\n",
    "\n",
    "x_val, y_val = x_train[train_split:train_split+val_split], y_train[train_split:train_split+val_split]\n",
    "x_train, y_train = x_train[:train_split], y_train[:train_split]\n",
    "\n",
    "# Normalize the input data\n",
    "x_train = x_train.astype('float32') / 255.0\n",
    "x_val = x_val.astype('float32') / 255.0\n",
    "x_test = x_test.astype('float32') / 255.0\n",
    "\n",
    "\n",
    "# Print the shape of the training and testing sets\n",
    "print(\"Training set shape:\", x_train.shape, y_train.shape)\n",
    "print(\"Validation set shape:\", x_val.shape, y_val.shape)\n",
    "print(\"Testing set shape:\", x_test.shape, y_test.shape)"
   ]
  },
  {
   "cell_type": "code",
   "execution_count": 2,
   "metadata": {},
   "outputs": [],
   "source": [
    "# convert the matrix into a shape that kNN can work with\n",
    "def convert_shape(mat):\n",
    "    n_samples = mat.shape[0]\n",
    "    n_features = mat.shape[1] * mat.shape[2]\n",
    "    return mat.reshape(n_samples, n_features)\n",
    "    "
   ]
  },
  {
   "cell_type": "code",
   "execution_count": 3,
   "metadata": {
    "scrolled": true
   },
   "outputs": [
    {
     "data": {
      "text/plain": [
       "(45000, 784)"
      ]
     },
     "execution_count": 3,
     "metadata": {},
     "output_type": "execute_result"
    }
   ],
   "source": [
    "x_train = convert_shape(x_train)\n",
    "x_val = convert_shape(x_val)\n",
    "x_test = convert_shape(x_test)\n",
    "x_train.shape"
   ]
  },
  {
   "cell_type": "markdown",
   "metadata": {},
   "source": [
    "### Sampling\n",
    "We can see that the dataset is huge. Below we will randomly sample n number of images from the dataset to help speed up the process."
   ]
  },
  {
   "cell_type": "code",
   "execution_count": 4,
   "metadata": {},
   "outputs": [],
   "source": [
    "import numpy as np\n",
    "# Define the number of elements to sample\n",
    "n = 2000\n",
    "\n",
    "# Generate random indices\n",
    "indices = np.random.choice(x_train.shape[0], n, replace=False)\n",
    "\n",
    "# Sort the indices\n",
    "indices = np.sort(indices)\n",
    "\n",
    "# Select the subset of training data using the indices\n",
    "x_train_subset = x_train[indices]\n",
    "y_train_subset = y_train[indices]"
   ]
  },
  {
   "cell_type": "code",
   "execution_count": 5,
   "metadata": {},
   "outputs": [],
   "source": [
    "n = 500\n",
    "# Generate random indices\n",
    "indices = np.random.choice(x_val.shape[0], n, replace=False)\n",
    "\n",
    "# Sort the indices\n",
    "indices = np.sort(indices)\n",
    "\n",
    "# Select the subset of training data using the indices\n",
    "x_val_subset = x_val[indices]\n",
    "y_val_subset = y_val[indices]"
   ]
  },
  {
   "cell_type": "code",
   "execution_count": 6,
   "metadata": {},
   "outputs": [],
   "source": [
    "n = 500\n",
    "# Generate random indices\n",
    "indices = np.random.choice(x_test.shape[0], n, replace=False)\n",
    "\n",
    "# Sort the indices\n",
    "indices = np.sort(indices)\n",
    "\n",
    "# Select the subset of training data using the indices\n",
    "x_test_subset = x_test[indices]\n",
    "y_test_subset = y_test[indices]"
   ]
  },
  {
   "cell_type": "markdown",
   "metadata": {},
   "source": [
    "# Proposed Solution\n",
    "\n",
    "\n",
    "Since our training data is plentiful, we will first use k-NN as our benchmark model. Our solution is to convert and normalize the images into feature vectors by flattening the image, and then creating a datastructure for all these vectors so it will be efficient to pull out the labels during the test period. Next, we will have to choose different values of k to tune the hyperparameters, and then choose the best k value based on our evaluation metrics.\n",
    "\n",
    "Next, for our neural network, we can just use the same data from our knn model as its been preprocessed. Then, we will design the architecture of the model. We will first use adam for our optimizer as well as the sigmoid function as our activation function, since it will represent probability well. For each training point, when we pass through the activation layer we intend to return the probability it belongs to each class, and select the highest. Then, we will compare the predicted label with the true label to see if the loss function is necessary, then finally update the parameters of the model. We will try this model with multiple different parameters to select the best model.\n",
    "\n",
    "Finally, we will compare both models and evaluate which one performs better. Then, create a cosine or jaccard similarity function that we can run through the model to see which images/digits are the most similar. From this we can identify how to prevent digit errors."
   ]
  },
  {
   "cell_type": "markdown",
   "metadata": {},
   "source": [
    "# Evaluation Metrics\n",
    "\n",
    "\n",
    "\n",
    "\n",
    "When considering evaluation metrics, it is important to understand where the problem is applicable for risk assessment. Most likely, we will be using handwritten classifiers in postal services, investments, and banks. Because of the widespread use in many industries, we believe using the F1 score would be the best evaluation metric for a model. This is because it puts weight on both precision and recall, trying to equally balance the error instead of heavily weighting one side of the error over the other (FP vs FN). In the preliminary results below, we can take a look at our confusion matrix and also get a glimpse of how we plan to use these metrics).\n",
    "\n",
    "In terms of the f1 score mathematically represented, we just plan to use it how we derived in class, which is (2* Precision *Recall)/(Precision+Recall)\n",
    "\n",
    "\n",
    "Something to note is just the inherent error in some digits, for example the way 3 and 8 are written are very close, as well as 4 and 9. This means that accuracy isn't a great metric, because inside of a high accuracy there could be high error rates for some classes and low error rates for other classes. Using f1 score would be a good solution to this, as well as displaying the error rates for each class.\n",
    "\n",
    "For our final results to answer our research problem, we will just evaluate the model's performance on our own written checks based upon accuracy, as we won't be able to write enough checks to have a metric like f1 score.\n"
   ]
  },
  {
   "cell_type": "markdown",
   "metadata": {},
   "source": [
    "# Preliminary results\n",
    "\n",
    "NEW SECTION!\n",
    "\n",
    "Please show any preliminary results you have managed to obtain.\n",
    "\n",
    "Examples would include:\n",
    "- Analyzing the suitability of a dataset or alogrithm for prediction/solving your problem \n",
    "- Performing feature selection or hand-designing features from the raw data. Describe the features available/created and/or show the code for selection/creation\n",
    "- Showing the performance of a base model/hyper-parameter setting.  Solve the task with one \"default\" algorithm and characterize the performance level of that base model.\n",
    "- Learning curves or validation curves for a particular model\n",
    "- Tables/graphs showing the performance of different models/hyper-parameters\n",
    "\n"
   ]
  },
  {
   "cell_type": "code",
   "execution_count": 7,
   "metadata": {},
   "outputs": [
    {
     "name": "stdout",
     "output_type": "stream",
     "text": [
      "Accuracy: 0.91\n"
     ]
    },
    {
     "data": {
      "image/png": "[encoded data removed]",
      "text/plain": [
       "<Figure size 432x288 with 2 Axes>"
      ]
     },
     "metadata": {
      "needs_background": "light"
     },
     "output_type": "display_data"
    },
    {
     "data": {
      "image/png": "[encoded data removed]",
      "text/plain": [
       "<Figure size 432x288 with 1 Axes>"
      ]
     },
     "metadata": {
      "needs_background": "light"
     },
     "output_type": "display_data"
    }
   ],
   "source": [
    "from sklearn.neighbors import KNeighborsClassifier\n",
    "from sklearn.datasets import load_digits\n",
    "from sklearn.model_selection import train_test_split\n",
    "from sklearn.metrics import accuracy_score\n",
    "import numpy as np\n",
    "import matplotlib.pyplot as plt\n",
    "from sklearn.metrics import confusion_matrix\n",
    "\n",
    "\n",
    "\n",
    "# Create a k-NN classifier with k=5\n",
    "knn = KNeighborsClassifier(n_neighbors=5)\n",
    "\n",
    "# Train the classifier on the training data\n",
    "knn.fit(x_train_subset, y_train_subset)\n",
    "\n",
    "# Make predictions on the validation data\n",
    "y_pred_val = knn.predict(x_val_subset)\n",
    "\n",
    "# Compute the accuracy of the model\n",
    "accuracy = accuracy_score(y_val_subset, y_pred_val)\n",
    "print(f\"Accuracy: {accuracy}\")\n",
    "\n",
    "# Compute the confusion matrix and error for each digit\n",
    "conf_matrix = np.zeros((10, 10))\n",
    "error_counts = np.zeros(10)\n",
    "for true_label, pred_label in zip(y_val_subset, y_pred_val):\n",
    "    conf_matrix[true_label, pred_label] += 1\n",
    "    if true_label != pred_label:\n",
    "        error_counts[true_label] += 1\n",
    "        \n",
    "# Plot the confusion matrix\n",
    "fig, ax = plt.subplots()\n",
    "im = ax.imshow(conf_matrix, cmap='Blues')\n",
    "# Set the axis labels and title\n",
    "ax.set_xticks(np.arange(10))\n",
    "ax.set_yticks(np.arange(10))\n",
    "ax.set_xticklabels(np.arange(10))\n",
    "ax.set_yticklabels(np.arange(10))\n",
    "ax.set_xlabel('Predicted label')\n",
    "ax.set_ylabel('True label')\n",
    "ax.set_title('Confusion matrix')\n",
    "\n",
    "# Add colorbar\n",
    "cbar = ax.figure.colorbar(im, ax=ax)\n",
    "\n",
    "# Loop over data and annotate the matrix entries\n",
    "for i in range(10):\n",
    "    for j in range(10):\n",
    "        text = ax.text(j, i, conf_matrix[i, j], ha='center', va='center', color='w')\n",
    "\n",
    "plt.show()\n",
    "\n",
    "\n",
    "# Plot the error for each digit\n",
    "fig, ax = plt.subplots()\n",
    "ax.bar(np.arange(10), (error_counts/len(y_test))*100)\n",
    "ax.set_xticks(np.arange(10))\n",
    "ax.set_xticklabels(np.arange(10))\n",
    "ax.set_xlabel('True digit')\n",
    "ax.set_ylabel('Error, in percent (%)')\n",
    "ax.set_title(\"Error Percentage per digit\")\n",
    "plt.show()"
   ]
  },
  {
   "cell_type": "markdown",
   "metadata": {},
   "source": [
    "### Getting some error metrics"
   ]
  },
  {
   "cell_type": "code",
   "execution_count": 8,
   "metadata": {},
   "outputs": [],
   "source": [
    "def get_error_metrics(conf_matrix):\n",
    "    TP = np.diag(conf_matrix)\n",
    "    FP = np.sum(conf_matrix, axis=0) - TP\n",
    "    FN = np.sum(conf_matrix, axis=1) - TP\n",
    "    TN = np.sum(conf_matrix) - TP - FP - FN\n",
    "    return TP,FP,FN,TN"
   ]
  },
  {
   "cell_type": "code",
   "execution_count": 9,
   "metadata": {},
   "outputs": [],
   "source": [
    "def get_accuracy_rate(conf_matrix):\n",
    "    TP,FP,FN,TN = get_error_metrics(conf_matrix)\n",
    "    return (TP + TN) / (TP + TN + FP + FN)"
   ]
  },
  {
   "cell_type": "code",
   "execution_count": 10,
   "metadata": {},
   "outputs": [],
   "source": [
    "def get_F1_score(conf_matrix):\n",
    "    TP,FP,FN,TN = get_error_metrics(conf_matrix)\n",
    "    precision = TP / (TP + FP)\n",
    "    recall = TP / (TP + FN)\n",
    "    return (2 * precision * recall) / (precision + recall)"
   ]
  },
  {
   "cell_type": "markdown",
   "metadata": {},
   "source": [
    "#### Accuracy of Baseline kNN:"
   ]
  },
  {
   "cell_type": "code",
   "execution_count": 11,
   "metadata": {},
   "outputs": [
    {
     "data": {
      "text/plain": [
       "array([0.99 , 0.978, 1.   , 0.984, 0.972, 0.974, 0.984, 0.988, 0.976,\n",
       "       0.974])"
      ]
     },
     "execution_count": 11,
     "metadata": {},
     "output_type": "execute_result"
    }
   ],
   "source": [
    "get_accuracy_rate(conf_matrix)"
   ]
  },
  {
   "cell_type": "markdown",
   "metadata": {},
   "source": [
    "#### F1 Score of Baseline kNN:"
   ]
  },
  {
   "cell_type": "code",
   "execution_count": 12,
   "metadata": {},
   "outputs": [
    {
     "data": {
      "text/plain": [
       "array([0.95412844, 0.91338583, 1.        , 0.91666667, 0.86538462,\n",
       "       0.86868687, 0.93103448, 0.93023256, 0.85      , 0.86021505])"
      ]
     },
     "execution_count": 12,
     "metadata": {},
     "output_type": "execute_result"
    }
   ],
   "source": [
    "get_F1_score(conf_matrix)"
   ]
  },
  {
   "cell_type": "markdown",
   "metadata": {},
   "source": [
    "This is our preliminary results, we will improve the knn model through:\n",
    "\n",
    "Cross-validation: Instead of splitting the data into a single training and testing set, we can use cross-validation to evaluate the model's performance on multiple test sets. This can provide a more robust estimate of the model's accuracy and help to prevent overfitting.\n",
    "\n",
    "Feature scaling: it is important to ensure that all features contribute equally to the distance calculation. We can use scikit-learn's MinMaxScaler to scale the features to a common range.\n",
    "\n",
    "Hyperparameter tuning: The k-NN algorithm has a hyperparameter k, which specifies the number of neighbors to consider when making a prediction. The optimal value of k can depend on the specific dataset and problem, so it's a good idea to tune this parameter using techniques such as grid search or randomized search.\n",
    "\n",
    "Distance metric: The choice of distance metric can also have a significant impact on the performance of the k-NN algorithm. By default, scikit-learn uses the Euclidean distance metric, but other metrics such as Manhattan distance or cosine distance may be more appropriate for certain problems.\n",
    "\n",
    "In our confusion matrix, we can see the number of correctly classified images for each digits, as well as a bar graph to better represent. From our basic model, digits 2 and 8 seems to produce the most errors, while 1 is the most accurate digit.\n",
    "\n",
    "These are all things that we will implement in our knn model, before we design the neural network.\n"
   ]
  },
  {
   "cell_type": "markdown",
   "metadata": {},
   "source": [
    "# Ethics & Privacy"
   ]
  },
  {
   "cell_type": "markdown",
   "metadata": {},
   "source": [
    "\n",
    "One ethical concern we have with the MNIST dataset is the potential of bias within the dataset. What we mean by this is that there may be more samples of a certain digit compared to the rest, resulting in poor performance in that digit. Further, the intention of building this model using the MNIST dataset is to expand it to real applications, such as banks. With an architecture/evaluation metric that doesn't put weight on false positives, this could be lead to really catastrophic errors in the banking industry. For example, misidentifying a 4 or 9 can be a large difference, especially if it's a number like 400000 to 90000.\n",
    "\n",
    "We plan to address this issue of bias by testing different model parameters such as data augmentation as well as changing the sampling strategy. For the other concern, we plan to use metrics that put weight on false postivies, including precision and f1 score. Then, we will use similarity metrics to actually see which digits are the most prone to these mistakes to allow this knowledge to be more widespread."
   ]
  },
  {
   "cell_type": "markdown",
   "metadata": {},
   "source": [
    "# Team Expectations "
   ]
  },
  {
   "cell_type": "markdown",
   "metadata": {},
   "source": [
    "\n",
    "* Be available on the weekends to work together if neccessary, otherwise individually complete assigned work during weekday\n",
    "* Inform all team members through group chat on updates/something is pushed to github\n",
    "* Finish all required parts at least 2 days before deadline is due"
   ]
  },
  {
   "cell_type": "markdown",
   "metadata": {},
   "source": [
    "# Project Timeline Proposal"
   ]
  },
  {
   "cell_type": "markdown",
   "metadata": {},
   "source": [
    "\n",
    "\n",
    "| Meeting Date  | Meeting Time| Completed Before Meeting  | Discuss at Meeting |\n",
    "|---|---|---|---|\n",
    "| 2/16  |  1 PM |  Brainstorm topics/questions (all)  | Determine best form of communication; Discuss and decide on final project topic; discuss hypothesis; begin background research | \n",
    "| 2/17  |  10 AM |  Do background research on topic and come up with basic KNN model (George) | Discuss ideal dataset(s) and ethics; draft project proposal | \n",
    "| 2/17  | 10 PM  | Edit, finalize, and submit proposal; Search for datasets (Xinyao/Yingnan)  | Assign group members to lead each specific part   |\n",
    "| 3/1  | 6 PM  | Begin Neural Network architecture design/programming(George) | Discuss Analysis Plan   |\n",
    "| 3/2  | 12 PM  | Improve knn w/different parameters, explain changes (Yingnan) | Discuss/edit project code; Complete project |\n",
    "| 3/12  | 12 PM  | Complete analysis; Draft results/conclusion/discussion (Xinyao)| Discuss/edit full project |\n",
    "| 3/19  | Before 11:59 PM  | NA | Turn in Final Project  |"
   ]
  },
  {
   "cell_type": "markdown",
   "metadata": {},
   "source": [
    "# Footnotes\n",
    "\n",
    "<a name=\"adaptivelearningrate\">1</a>: Luo, Liangchen (2019) Adaptive Gradient Methods with Dynamic Bound of Learning Rate. *ICLR 2019*. https://paperswithcode.com/paper/adaptive-gradient-methods-with-dynamic-bound<br> \n",
    "\n",
    "<a name=\"handwritten\">2</a>: Matcha, Anil. 22 August 2022. How to easily do Handwriting Recognition using Machine Learning. *Nanonets*. https://nanonets.com/blog/handwritten-character-recognition/<br> "
   ]
  },
  {
   "cell_type": "markdown",
   "metadata": {},
   "source": [
    "### Improved K-nn"
   ]
  },
  {
   "cell_type": "code",
   "execution_count": 13,
   "metadata": {},
   "outputs": [],
   "source": [
    "# TODO"
   ]
  },
  {
   "cell_type": "markdown",
   "metadata": {},
   "source": [
    "# Fully Connected Neural Network"
   ]
  },
  {
   "cell_type": "markdown",
   "metadata": {},
   "source": [
    "When we write neural networks, the process of training is much faster than our baseline kNN model, which is why we can use the original x_train and y_train data instead of the subsets that we created earlier. This should allow for higher accuracy since we have more data, but perhaps could cause overfitting."
   ]
  },
  {
   "cell_type": "code",
   "execution_count": 19,
   "metadata": {},
   "outputs": [],
   "source": [
    "from tensorflow import keras\n",
    "from tensorflow.keras import layers"
   ]
  },
  {
   "cell_type": "code",
   "execution_count": 20,
   "metadata": {},
   "outputs": [],
   "source": [
    "# Define the neural network model\n",
    "model = keras.Sequential([\n",
    "    layers.Dense(128, activation='relu', input_shape=(784,)),\n",
    "    layers.Dense(64, activation='relu'),\n",
    "    layers.Dense(10, activation='softmax')\n",
    "])"
   ]
  },
  {
   "cell_type": "markdown",
   "metadata": {},
   "source": [
    "We use Dense layers because we want to use back propagation to update the weights for each iteration. This means that when there is an error/misclassification of a digit, the model is able to learn from it, unlike the baseline kNN algorithm. For activation functions, we use reLu in order for fast convergence, which is important because we have some many samples in our dataset. Finally, the softmax function is super useful for our problem, because it gives a probability for each class/digit, showing both the predicted value (using the max probability) as well as possible similar digits."
   ]
  },
  {
   "cell_type": "code",
   "execution_count": 21,
   "metadata": {},
   "outputs": [],
   "source": [
    "# Compile the model\n",
    "model.compile(optimizer='adam',\n",
    "              loss='sparse_categorical_crossentropy',\n",
    "              metrics='accuracy')"
   ]
  },
  {
   "cell_type": "markdown",
   "metadata": {},
   "source": [
    "We decided to use adam as our optimizer because it is an adaptive learning rate, meaning it can learn from its mistakes. Additionally, the choice of cross entropy is also important because the loss function penalizes heavily for large differences between the predicted and true probability distributions, encouraging it to adjust its weights and biases to match the true distribution. This is perfect to use with out softmax probability output.\n"
   ]
  },
  {
   "cell_type": "code",
   "execution_count": 23,
   "metadata": {},
   "outputs": [
    {
     "name": "stdout",
     "output_type": "stream",
     "text": [
      "Epoch 1/5\n",
      "1407/1407 [==============================] - 10s 7ms/step - loss: 0.0374 - accuracy: 0.9870 - val_loss: 0.1229 - val_accuracy: 0.9663\n",
      "Epoch 2/5\n",
      "1407/1407 [==============================] - 9s 7ms/step - loss: 0.0291 - accuracy: 0.9906 - val_loss: 0.1052 - val_accuracy: 0.9713\n",
      "Epoch 3/5\n",
      "1407/1407 [==============================] - 9s 6ms/step - loss: 0.0270 - accuracy: 0.9911 - val_loss: 0.1121 - val_accuracy: 0.9725\n",
      "Epoch 4/5\n",
      "1407/1407 [==============================] - 9s 6ms/step - loss: 0.0219 - accuracy: 0.9930 - val_loss: 0.1059 - val_accuracy: 0.9735\n",
      "Epoch 5/5\n",
      "1407/1407 [==============================] - 9s 6ms/step - loss: 0.0175 - accuracy: 0.9939 - val_loss: 0.1221 - val_accuracy: 0.9712\n"
     ]
    }
   ],
   "source": [
    "# Train the model\n",
    "history = model.fit(x_train, y_train, epochs=5, validation_data=(x_val, y_val))"
   ]
  },
  {
   "cell_type": "code",
   "execution_count": 24,
   "metadata": {},
   "outputs": [
    {
     "name": "stdout",
     "output_type": "stream",
     "text": [
      "313/313 [==============================] - 1s 2ms/step\n"
     ]
    }
   ],
   "source": [
    "y_pred = model.predict(x_test)\n",
    "y_pred_labels = np.argmax(y_pred, axis=1)"
   ]
  },
  {
   "cell_type": "code",
   "execution_count": 25,
   "metadata": {},
   "outputs": [
    {
     "data": {
      "image/png": "[encoded data removed]",
      "text/plain": [
       "<Figure size 432x288 with 2 Axes>"
      ]
     },
     "metadata": {
      "needs_background": "light"
     },
     "output_type": "display_data"
    }
   ],
   "source": [
    "# Compute the confusion matrix and error for each digit\n",
    "conf_matrix = np.zeros((10, 10))\n",
    "error_counts = np.zeros(10)\n",
    "for true_label, pred_label in zip(y_test, y_pred_labels):\n",
    "    conf_matrix[true_label, pred_label] += 1\n",
    "    if true_label != pred_label:\n",
    "        error_counts[true_label] += 1\n",
    "        \n",
    "# Plot the confusion matrix\n",
    "fig, ax = plt.subplots()\n",
    "im = ax.imshow(conf_matrix, cmap='Blues')\n",
    "# Set the axis labels and title\n",
    "ax.set_xticks(np.arange(10))\n",
    "ax.set_yticks(np.arange(10))\n",
    "ax.set_xticklabels(np.arange(10))\n",
    "ax.set_yticklabels(np.arange(10))\n",
    "ax.set_xlabel('Predicted label')\n",
    "ax.set_ylabel('True label')\n",
    "ax.set_title('Confusion matrix')\n",
    "\n",
    "# Add colorbar\n",
    "cbar = ax.figure.colorbar(im, ax=ax)\n",
    "\n",
    "# Loop over data and annotate the matrix entries\n",
    "for i in range(10):\n",
    "    for j in range(10):\n",
    "        text = ax.text(j, i, conf_matrix[i, j], ha='center', va='center', color='w')\n",
    "plt.show()"
   ]
  },
  {
   "cell_type": "code",
   "execution_count": 26,
   "metadata": {},
   "outputs": [
    {
     "data": {
      "text/plain": [
       "array([0.9961, 0.9968, 0.9932, 0.9906, 0.9961, 0.9943, 0.9961, 0.9946,\n",
       "       0.9912, 0.9946])"
      ]
     },
     "execution_count": 26,
     "metadata": {},
     "output_type": "execute_result"
    }
   ],
   "source": [
    "get_accuracy_rate(conf_matrix)"
   ]
  },
  {
   "cell_type": "markdown",
   "metadata": {},
   "source": [
    "Though our accuracy for each digit is high, this may not actually reflect the true error for each class. This is because of the possiblity of imbalanced classes skewing the results. For example, 3 may have higher error rates if it had been sampled more, but b/c of its limited presence and its accuracy on those, the overall accuracy of the digit is high when it could have been much lower."
   ]
  },
  {
   "cell_type": "code",
   "execution_count": 27,
   "metadata": {},
   "outputs": [
    {
     "data": {
      "text/plain": [
       "array([0.98023315, 0.98575245, 0.96656834, 0.95414634, 0.98019299,\n",
       "       0.96838602, 0.97976129, 0.97373541, 0.95487179, 0.97289157])"
      ]
     },
     "execution_count": 27,
     "metadata": {},
     "output_type": "execute_result"
    }
   ],
   "source": [
    "get_F1_score(conf_matrix)"
   ]
  },
  {
   "cell_type": "markdown",
   "metadata": {},
   "source": [
    "Our F1 score for each digit is much higher than our kNN model, not a single digit's F1 score is below 0.95 while multiple digits are below 0.9 in the baseline kNN model. As a result, this model is better because we believe F1 is a representative error metric for this dataset."
   ]
  },
  {
   "cell_type": "code",
   "execution_count": 28,
   "metadata": {},
   "outputs": [
    {
     "data": {
      "image/png": "[encoded data removed]",
      "text/plain": [
       "<Figure size 432x288 with 1 Axes>"
      ]
     },
     "metadata": {
      "needs_background": "light"
     },
     "output_type": "display_data"
    }
   ],
   "source": [
    "# Plot the error for each digit\n",
    "fig, ax = plt.subplots()\n",
    "ax.bar(np.arange(10), (error_counts/len(y_test))*100)\n",
    "ax.set_xticks(np.arange(10))\n",
    "ax.set_xticklabels(np.arange(10))\n",
    "ax.set_xlabel('True digit')\n",
    "ax.set_ylabel('Error, in percent (%)')\n",
    "ax.set_title(\"Error Percentage per digit\")\n",
    "plt.show()"
   ]
  },
  {
   "cell_type": "markdown",
   "metadata": {},
   "source": [
    "As we can see, the fully connected neural network is much more accurate then the k-NN models that we created. We choose specifically this type of model, because each layer is connected to the previous layer, so the weights can be updated during training using backpropagation. We even use Adam as our optimizer, which is a good design choice in this problem because it can change the learning rate based upon the mistakes in previous iterations. This model definitely is more suitable in answering our problem statement of which model should be used in checks, since it can train on large datasets and adapt to its previous mistakes. We will use this version of the model to test on our own handwritten checks, and see how it performs."
   ]
  },
  {
   "cell_type": "markdown",
   "metadata": {},
   "source": [
    "# Testing Model On Real Handwritten Check"
   ]
  },
  {
   "cell_type": "code",
   "execution_count": 29,
   "metadata": {},
   "outputs": [],
   "source": [
    "import cv2\n",
    "from skimage.transform import resize\n",
    "from tensorflow.keras.models import load_model"
   ]
  },
  {
   "cell_type": "code",
   "execution_count": 30,
   "metadata": {},
   "outputs": [],
   "source": [
    "img = cv2.imread(\"test8.jpg\")\n",
    "gray = cv2.cvtColor(img, cv2.COLOR_BGR2GRAY)"
   ]
  },
  {
   "cell_type": "code",
   "execution_count": 31,
   "metadata": {},
   "outputs": [],
   "source": [
    "_, thresh = cv2.threshold(gray, 0, 255, cv2.THRESH_BINARY_INV + cv2.THRESH_OTSU)"
   ]
  },
  {
   "cell_type": "code",
   "execution_count": 32,
   "metadata": {},
   "outputs": [],
   "source": [
    "# Apply erosion and dilation to clean up the binary image\n",
    "kernel = np.ones((3, 3), np.uint8)\n",
    "erosion = cv2.erode(thresh, kernel, iterations=1)\n",
    "dilation = cv2.dilate(erosion, kernel, iterations=1)"
   ]
  },
  {
   "cell_type": "code",
   "execution_count": 33,
   "metadata": {},
   "outputs": [],
   "source": [
    "resized_digit = cv2.resize(dilation, (28, 28), interpolation=cv2.INTER_AREA)"
   ]
  },
  {
   "cell_type": "code",
   "execution_count": 34,
   "metadata": {},
   "outputs": [],
   "source": [
    "input_digit = np.reshape(resized_digit, (1, 784))\n",
    "input_digit = input_digit / 255.0"
   ]
  },
  {
   "cell_type": "code",
   "execution_count": 35,
   "metadata": {},
   "outputs": [
    {
     "name": "stdout",
     "output_type": "stream",
     "text": [
      "1/1 [==============================] - 0s 22ms/step\n",
      "Predicted digit: 5\n"
     ]
    }
   ],
   "source": [
    "prediction = model.predict(input_digit)\n",
    "print(\"Predicted digit:\", np.argmax(prediction))"
   ]
  },
  {
   "cell_type": "markdown",
   "metadata": {},
   "source": [
    "As we can see, even though our model performed well on the dataset, it doesn't perform well on the handwritten digits that we implemented ourselves. This shows that even though a model may perform well in development, there are many other factors that affect the performance during production. In this case, we need to consider things such as cleaning/processing the image. Perhaps the model does actually perform, well, we just did not implement a good way to clean the image to have something for the model to easily recognize."
   ]
  },
  {
   "cell_type": "code",
   "execution_count": null,
   "metadata": {},
   "outputs": [],
   "source": []
  }
 ],
 "metadata": {
  "kernelspec": {
   "display_name": "Python 3 (ipykernel)",
   "language": "python",
   "name": "python3"
  },
  "language_info": {
   "codemirror_mode": {
    "name": "ipython",
    "version": 3
   },
   "file_extension": ".py",
   "mimetype": "text/x-python",
   "name": "python",
   "nbconvert_exporter": "python",
   "pygments_lexer": "ipython3",
   "version": "3.9.5"
  }
 },
 "nbformat": 4,
 "nbformat_minor": 2
}
