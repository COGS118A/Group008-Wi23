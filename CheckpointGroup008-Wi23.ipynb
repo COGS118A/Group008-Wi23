{
 "cells": [
  {
   "cell_type": "markdown",
   "id": "f4f80a4e",
   "metadata": {},
   "source": [
    "# What kind of Beer do you want?"
   ]
  },
  {
   "cell_type": "markdown",
   "id": "6095271b",
   "metadata": {},
   "source": [
    "# Names\n",
    "\n",
    "- George Liu, A15836054\n",
    "- Xinyao Yi, A59019592\n",
    "- Yingnan Yang, A16018172"
   ]
  },
  {
   "cell_type": "markdown",
   "id": "14de21f8",
   "metadata": {},
   "source": [
    "# Abstract"
   ]
  },
  {
   "cell_type": "markdown",
   "id": "35b2b098",
   "metadata": {},
   "source": [
    "For adults, beer is one of the most highly consumed beverages; wouldn't you want to find a beer that is best for you? In order to do this, we want to examine how people rate beers. This includes things such as alcohol percentage, smell, and taste. Our goal is to build a model that predicts the ratings of beer given these attributes/features, extend the model to also recommend beers based upon your own preferences to these features.\n",
    "\n",
    "Once we filter our dataset with the necessary features, we will train a baseline linear regression model and then a more complex fully connected neural network to see how it performs, using metrics such as RMSE, MAE, and R2 correlation coefficient. These metrics will help us determine the best model, and in turn allow us to recommend the best beer for you."
   ]
  },
  {
   "cell_type": "markdown",
   "id": "5ad930c5",
   "metadata": {},
   "source": [
    "# Background"
   ]
  },
  {
   "cell_type": "markdown",
   "id": "9a8badae",
   "metadata": {},
   "source": [
    "Our research problem is pretty unique in that researches don’t look into a topic like this. Mostly, this is because this topic is not super important to globalization and technological improvements. There are some works that are similar in topic, but none are academic. \n",
    "\n",
    "One way people use this dataset is to research the types of preferences people have in beer, things like how much foam a person wants, how much alcohol percentage is in the drink, etc. This mostly is used for improving the sales of beer and crafting the best drink. <sup>[1](#preferences)</sup>\n",
    "\n",
    "Others have used beer reviews as a way for classification, being easily able to classify a beer into some categories for ease and also increases sales. <sup>[2](#classification)</sup>\n",
    "\n",
    "A similar drink to beer is wine, and they are experimenting with computer vision to find when the optimal time is to use the ingredients, aka harvesting the grapes. A similar application can be used on barley, the ingredient to make beer. <sup>[3](#beer)</sup>"
   ]
  },
  {
   "cell_type": "markdown",
   "id": "e6d141c0",
   "metadata": {},
   "source": [
    "# Problem Statement/Research Problem\n",
    "We aim to suggest the best beer for you based upon common beer preferences; things such as alcohol level, appearence, bitterness, etc. In the process of doing this, we will also aim to predict ratings based upon these preferences; which can be replicated through our model architecture (there is no randomness). This problem is both quantifiable (as our predicted ratings we can get a definite number), and also measurable, through our error metrics that we present below."
   ]
  },
  {
   "cell_type": "markdown",
   "id": "749e75df",
   "metadata": {},
   "source": [
    "# Dataset"
   ]
  },
  {
   "cell_type": "markdown",
   "id": "29603fea",
   "metadata": {},
   "source": [
    "https://www.kaggle.com/datasets/ruthgn/beer-profile-and-ratings-data-set\n",
    "\n",
    "This dataset can be found above at the link provided. It has 3197 beer reviews, and 25 total features (3197x25). Each sample will consist of something similar to the name of the drink, a few columns representing the preferences of beers like alcohol level, and then the overall review rating. For our data, we need preprocess by filtering out useless columns and also selecting columns that can easily fit into our neural network architecture (for example getting columns that are integers/floats) so we don't have to one hot encode unnecessary features. We also should drop any sample that is empty in the columns that we find useful.\n",
    "\n",
    "To create our training set and test set, we need to first extract the overall rating score from the dataset as our y values (labels). Then, we extract all the columns that we find important and use that as our X. Then we can use test_train split to get the necessary proportions for our model to be generalizable."
   ]
  },
  {
   "cell_type": "code",
   "execution_count": 1,
   "id": "96264ff7",
   "metadata": {},
   "outputs": [
    {
     "name": "stderr",
     "output_type": "stream",
     "text": [
      "2023-03-05 08:07:57.634306: I tensorflow/core/platform/cpu_feature_guard.cc:193] This TensorFlow binary is optimized with oneAPI Deep Neural Network Library (oneDNN) to use the following CPU instructions in performance-critical operations:  AVX2 FMA\n",
      "To enable them in other operations, rebuild TensorFlow with the appropriate compiler flags.\n",
      "2023-03-05 08:07:57.860749: W tensorflow/compiler/xla/stream_executor/platform/default/dso_loader.cc:64] Could not load dynamic library 'libcudart.so.11.0'; dlerror: libcudart.so.11.0: cannot open shared object file: No such file or directory\n",
      "2023-03-05 08:07:57.860800: I tensorflow/compiler/xla/stream_executor/cuda/cudart_stub.cc:29] Ignore above cudart dlerror if you do not have a GPU set up on your machine.\n",
      "2023-03-05 08:08:00.101374: W tensorflow/compiler/xla/stream_executor/platform/default/dso_loader.cc:64] Could not load dynamic library 'libnvinfer.so.7'; dlerror: libnvinfer.so.7: cannot open shared object file: No such file or directory\n",
      "2023-03-05 08:08:00.101502: W tensorflow/compiler/xla/stream_executor/platform/default/dso_loader.cc:64] Could not load dynamic library 'libnvinfer_plugin.so.7'; dlerror: libnvinfer_plugin.so.7: cannot open shared object file: No such file or directory\n",
      "2023-03-05 08:08:00.101513: W tensorflow/compiler/tf2tensorrt/utils/py_utils.cc:38] TF-TRT Warning: Cannot dlopen some TensorRT libraries. If you would like to use Nvidia GPU with TensorRT, please make sure the missing libraries mentioned above are installed properly.\n"
     ]
    }
   ],
   "source": [
    "from sklearn.model_selection import train_test_split\n",
    "import pandas as pd\n",
    "import numpy as np\n",
    "import matplotlib.pyplot as plt\n",
    "import seaborn as sns\n",
    "from tensorflow.keras.models import load_model"
   ]
  },
  {
   "cell_type": "code",
   "execution_count": 2,
   "id": "dd060135",
   "metadata": {},
   "outputs": [],
   "source": [
    "df = pd.read_csv('beer_profile_and_ratings.csv')"
   ]
  },
  {
   "cell_type": "code",
   "execution_count": 3,
   "id": "82939d1a",
   "metadata": {},
   "outputs": [
    {
     "data": {
      "text/plain": [
       "(3197, 25)"
      ]
     },
     "execution_count": 3,
     "metadata": {},
     "output_type": "execute_result"
    }
   ],
   "source": [
    "df.shape"
   ]
  },
  {
   "cell_type": "code",
   "execution_count": 4,
   "id": "2cb520d7",
   "metadata": {},
   "outputs": [],
   "source": [
    "df = df.dropna()"
   ]
  },
  {
   "cell_type": "code",
   "execution_count": 5,
   "id": "98ea3843",
   "metadata": {},
   "outputs": [
    {
     "data": {
      "text/html": [
       "<div>\n",
       "<style scoped>\n",
       "    .dataframe tbody tr th:only-of-type {\n",
       "        vertical-align: middle;\n",
       "    }\n",
       "\n",
       "    .dataframe tbody tr th {\n",
       "        vertical-align: top;\n",
       "    }\n",
       "\n",
       "    .dataframe thead th {\n",
       "        text-align: right;\n",
       "    }\n",
       "</style>\n",
       "<table border=\"1\" class=\"dataframe\">\n",
       "  <thead>\n",
       "    <tr style=\"text-align: right;\">\n",
       "      <th></th>\n",
       "      <th>Name</th>\n",
       "      <th>Style</th>\n",
       "      <th>Brewery</th>\n",
       "      <th>Beer Name (Full)</th>\n",
       "      <th>Description</th>\n",
       "      <th>ABV</th>\n",
       "      <th>Min IBU</th>\n",
       "      <th>Max IBU</th>\n",
       "      <th>Astringency</th>\n",
       "      <th>Body</th>\n",
       "      <th>...</th>\n",
       "      <th>Fruits</th>\n",
       "      <th>Hoppy</th>\n",
       "      <th>Spices</th>\n",
       "      <th>Malty</th>\n",
       "      <th>review_aroma</th>\n",
       "      <th>review_appearance</th>\n",
       "      <th>review_palate</th>\n",
       "      <th>review_taste</th>\n",
       "      <th>review_overall</th>\n",
       "      <th>number_of_reviews</th>\n",
       "    </tr>\n",
       "  </thead>\n",
       "  <tbody>\n",
       "    <tr>\n",
       "      <th>0</th>\n",
       "      <td>Amber</td>\n",
       "      <td>Altbier</td>\n",
       "      <td>Alaskan Brewing Co.</td>\n",
       "      <td>Alaskan Brewing Co. Alaskan Amber</td>\n",
       "      <td>Notes:Richly malty and long on the palate, wit...</td>\n",
       "      <td>5.3</td>\n",
       "      <td>25</td>\n",
       "      <td>50</td>\n",
       "      <td>13</td>\n",
       "      <td>32</td>\n",
       "      <td>...</td>\n",
       "      <td>33</td>\n",
       "      <td>57</td>\n",
       "      <td>8</td>\n",
       "      <td>111</td>\n",
       "      <td>3.498994</td>\n",
       "      <td>3.636821</td>\n",
       "      <td>3.556338</td>\n",
       "      <td>3.643863</td>\n",
       "      <td>3.847082</td>\n",
       "      <td>497</td>\n",
       "    </tr>\n",
       "    <tr>\n",
       "      <th>1</th>\n",
       "      <td>Double Bag</td>\n",
       "      <td>Altbier</td>\n",
       "      <td>Long Trail Brewing Co.</td>\n",
       "      <td>Long Trail Brewing Co. Double Bag</td>\n",
       "      <td>Notes:This malty, full-bodied double alt is al...</td>\n",
       "      <td>7.2</td>\n",
       "      <td>25</td>\n",
       "      <td>50</td>\n",
       "      <td>12</td>\n",
       "      <td>57</td>\n",
       "      <td>...</td>\n",
       "      <td>24</td>\n",
       "      <td>35</td>\n",
       "      <td>12</td>\n",
       "      <td>84</td>\n",
       "      <td>3.798337</td>\n",
       "      <td>3.846154</td>\n",
       "      <td>3.904366</td>\n",
       "      <td>4.024948</td>\n",
       "      <td>4.034304</td>\n",
       "      <td>481</td>\n",
       "    </tr>\n",
       "    <tr>\n",
       "      <th>2</th>\n",
       "      <td>Long Trail Ale</td>\n",
       "      <td>Altbier</td>\n",
       "      <td>Long Trail Brewing Co.</td>\n",
       "      <td>Long Trail Brewing Co. Long Trail Ale</td>\n",
       "      <td>Notes:Long Trail Ale is a full-bodied amber al...</td>\n",
       "      <td>5.0</td>\n",
       "      <td>25</td>\n",
       "      <td>50</td>\n",
       "      <td>14</td>\n",
       "      <td>37</td>\n",
       "      <td>...</td>\n",
       "      <td>10</td>\n",
       "      <td>54</td>\n",
       "      <td>4</td>\n",
       "      <td>62</td>\n",
       "      <td>3.409814</td>\n",
       "      <td>3.667109</td>\n",
       "      <td>3.600796</td>\n",
       "      <td>3.631300</td>\n",
       "      <td>3.830239</td>\n",
       "      <td>377</td>\n",
       "    </tr>\n",
       "    <tr>\n",
       "      <th>3</th>\n",
       "      <td>Doppelsticke</td>\n",
       "      <td>Altbier</td>\n",
       "      <td>Uerige Obergärige Hausbrauerei GmbH / Zum Uerige</td>\n",
       "      <td>Uerige Obergärige Hausbrauerei GmbH / Zum Ueri...</td>\n",
       "      <td>Notes:</td>\n",
       "      <td>8.5</td>\n",
       "      <td>25</td>\n",
       "      <td>50</td>\n",
       "      <td>13</td>\n",
       "      <td>55</td>\n",
       "      <td>...</td>\n",
       "      <td>49</td>\n",
       "      <td>40</td>\n",
       "      <td>16</td>\n",
       "      <td>119</td>\n",
       "      <td>4.148098</td>\n",
       "      <td>4.033967</td>\n",
       "      <td>4.150815</td>\n",
       "      <td>4.205163</td>\n",
       "      <td>4.005435</td>\n",
       "      <td>368</td>\n",
       "    </tr>\n",
       "    <tr>\n",
       "      <th>4</th>\n",
       "      <td>Sleigh'r Dark Doüble Alt Ale</td>\n",
       "      <td>Altbier</td>\n",
       "      <td>Ninkasi Brewing Company</td>\n",
       "      <td>Ninkasi Brewing Company Sleigh'r Dark Doüble A...</td>\n",
       "      <td>Notes:Called 'Dark Double Alt' on the label.Se...</td>\n",
       "      <td>7.2</td>\n",
       "      <td>25</td>\n",
       "      <td>50</td>\n",
       "      <td>25</td>\n",
       "      <td>51</td>\n",
       "      <td>...</td>\n",
       "      <td>11</td>\n",
       "      <td>51</td>\n",
       "      <td>20</td>\n",
       "      <td>95</td>\n",
       "      <td>3.625000</td>\n",
       "      <td>3.973958</td>\n",
       "      <td>3.734375</td>\n",
       "      <td>3.765625</td>\n",
       "      <td>3.817708</td>\n",
       "      <td>96</td>\n",
       "    </tr>\n",
       "  </tbody>\n",
       "</table>\n",
       "<p>5 rows × 25 columns</p>\n",
       "</div>"
      ],
      "text/plain": [
       "                           Name    Style  \\\n",
       "0                         Amber  Altbier   \n",
       "1                    Double Bag  Altbier   \n",
       "2                Long Trail Ale  Altbier   \n",
       "3                  Doppelsticke  Altbier   \n",
       "4  Sleigh'r Dark Doüble Alt Ale  Altbier   \n",
       "\n",
       "                                            Brewery  \\\n",
       "0                               Alaskan Brewing Co.   \n",
       "1                            Long Trail Brewing Co.   \n",
       "2                            Long Trail Brewing Co.   \n",
       "3  Uerige Obergärige Hausbrauerei GmbH / Zum Uerige   \n",
       "4                           Ninkasi Brewing Company   \n",
       "\n",
       "                                    Beer Name (Full)  \\\n",
       "0                  Alaskan Brewing Co. Alaskan Amber   \n",
       "1                  Long Trail Brewing Co. Double Bag   \n",
       "2              Long Trail Brewing Co. Long Trail Ale   \n",
       "3  Uerige Obergärige Hausbrauerei GmbH / Zum Ueri...   \n",
       "4  Ninkasi Brewing Company Sleigh'r Dark Doüble A...   \n",
       "\n",
       "                                         Description  ABV  Min IBU  Max IBU  \\\n",
       "0  Notes:Richly malty and long on the palate, wit...  5.3       25       50   \n",
       "1  Notes:This malty, full-bodied double alt is al...  7.2       25       50   \n",
       "2  Notes:Long Trail Ale is a full-bodied amber al...  5.0       25       50   \n",
       "3                                             Notes:  8.5       25       50   \n",
       "4  Notes:Called 'Dark Double Alt' on the label.Se...  7.2       25       50   \n",
       "\n",
       "   Astringency  Body  ...  Fruits  Hoppy  Spices  Malty  review_aroma  \\\n",
       "0           13    32  ...      33     57       8    111      3.498994   \n",
       "1           12    57  ...      24     35      12     84      3.798337   \n",
       "2           14    37  ...      10     54       4     62      3.409814   \n",
       "3           13    55  ...      49     40      16    119      4.148098   \n",
       "4           25    51  ...      11     51      20     95      3.625000   \n",
       "\n",
       "   review_appearance  review_palate  review_taste  review_overall  \\\n",
       "0           3.636821       3.556338      3.643863        3.847082   \n",
       "1           3.846154       3.904366      4.024948        4.034304   \n",
       "2           3.667109       3.600796      3.631300        3.830239   \n",
       "3           4.033967       4.150815      4.205163        4.005435   \n",
       "4           3.973958       3.734375      3.765625        3.817708   \n",
       "\n",
       "   number_of_reviews  \n",
       "0                497  \n",
       "1                481  \n",
       "2                377  \n",
       "3                368  \n",
       "4                 96  \n",
       "\n",
       "[5 rows x 25 columns]"
      ]
     },
     "execution_count": 5,
     "metadata": {},
     "output_type": "execute_result"
    }
   ],
   "source": [
    "df.head()"
   ]
  },
  {
   "cell_type": "code",
   "execution_count": 6,
   "id": "2b8ae599",
   "metadata": {},
   "outputs": [
    {
     "data": {
      "text/plain": [
       "Name                  object\n",
       "Style                 object\n",
       "Brewery               object\n",
       "Beer Name (Full)      object\n",
       "Description           object\n",
       "ABV                  float64\n",
       "Min IBU                int64\n",
       "Max IBU                int64\n",
       "Astringency            int64\n",
       "Body                   int64\n",
       "Alcohol                int64\n",
       "Bitter                 int64\n",
       "Sweet                  int64\n",
       "Sour                   int64\n",
       "Salty                  int64\n",
       "Fruits                 int64\n",
       "Hoppy                  int64\n",
       "Spices                 int64\n",
       "Malty                  int64\n",
       "review_aroma         float64\n",
       "review_appearance    float64\n",
       "review_palate        float64\n",
       "review_taste         float64\n",
       "review_overall       float64\n",
       "number_of_reviews      int64\n",
       "dtype: object"
      ]
     },
     "execution_count": 6,
     "metadata": {},
     "output_type": "execute_result"
    }
   ],
   "source": [
    "df.dtypes"
   ]
  },
  {
   "cell_type": "markdown",
   "id": "89672068",
   "metadata": {},
   "source": [
    "Getting only the desired features to train our neural network"
   ]
  },
  {
   "cell_type": "code",
   "execution_count": 7,
   "id": "aba21010",
   "metadata": {},
   "outputs": [],
   "source": [
    "beer_names = df.loc[:,'Name']\n",
    "y = df.loc[:, 'review_overall']"
   ]
  },
  {
   "cell_type": "code",
   "execution_count": 8,
   "id": "09f9ad53",
   "metadata": {},
   "outputs": [],
   "source": [
    "X = df.drop(['Name','Style','Brewery','Beer Name (Full)', 'Description'], axis=1)"
   ]
  },
  {
   "cell_type": "markdown",
   "id": "ed4cbf07",
   "metadata": {},
   "source": [
    "This is what our first 5 samples look like."
   ]
  },
  {
   "cell_type": "code",
   "execution_count": 9,
   "id": "b6b6bd7c",
   "metadata": {},
   "outputs": [
    {
     "data": {
      "text/html": [
       "<div>\n",
       "<style scoped>\n",
       "    .dataframe tbody tr th:only-of-type {\n",
       "        vertical-align: middle;\n",
       "    }\n",
       "\n",
       "    .dataframe tbody tr th {\n",
       "        vertical-align: top;\n",
       "    }\n",
       "\n",
       "    .dataframe thead th {\n",
       "        text-align: right;\n",
       "    }\n",
       "</style>\n",
       "<table border=\"1\" class=\"dataframe\">\n",
       "  <thead>\n",
       "    <tr style=\"text-align: right;\">\n",
       "      <th></th>\n",
       "      <th>ABV</th>\n",
       "      <th>Min IBU</th>\n",
       "      <th>Max IBU</th>\n",
       "      <th>Astringency</th>\n",
       "      <th>Body</th>\n",
       "      <th>Alcohol</th>\n",
       "      <th>Bitter</th>\n",
       "      <th>Sweet</th>\n",
       "      <th>Sour</th>\n",
       "      <th>Salty</th>\n",
       "      <th>Fruits</th>\n",
       "      <th>Hoppy</th>\n",
       "      <th>Spices</th>\n",
       "      <th>Malty</th>\n",
       "      <th>review_aroma</th>\n",
       "      <th>review_appearance</th>\n",
       "      <th>review_palate</th>\n",
       "      <th>review_taste</th>\n",
       "      <th>review_overall</th>\n",
       "      <th>number_of_reviews</th>\n",
       "    </tr>\n",
       "  </thead>\n",
       "  <tbody>\n",
       "    <tr>\n",
       "      <th>0</th>\n",
       "      <td>5.3</td>\n",
       "      <td>25</td>\n",
       "      <td>50</td>\n",
       "      <td>13</td>\n",
       "      <td>32</td>\n",
       "      <td>9</td>\n",
       "      <td>47</td>\n",
       "      <td>74</td>\n",
       "      <td>33</td>\n",
       "      <td>0</td>\n",
       "      <td>33</td>\n",
       "      <td>57</td>\n",
       "      <td>8</td>\n",
       "      <td>111</td>\n",
       "      <td>3.498994</td>\n",
       "      <td>3.636821</td>\n",
       "      <td>3.556338</td>\n",
       "      <td>3.643863</td>\n",
       "      <td>3.847082</td>\n",
       "      <td>497</td>\n",
       "    </tr>\n",
       "    <tr>\n",
       "      <th>1</th>\n",
       "      <td>7.2</td>\n",
       "      <td>25</td>\n",
       "      <td>50</td>\n",
       "      <td>12</td>\n",
       "      <td>57</td>\n",
       "      <td>18</td>\n",
       "      <td>33</td>\n",
       "      <td>55</td>\n",
       "      <td>16</td>\n",
       "      <td>0</td>\n",
       "      <td>24</td>\n",
       "      <td>35</td>\n",
       "      <td>12</td>\n",
       "      <td>84</td>\n",
       "      <td>3.798337</td>\n",
       "      <td>3.846154</td>\n",
       "      <td>3.904366</td>\n",
       "      <td>4.024948</td>\n",
       "      <td>4.034304</td>\n",
       "      <td>481</td>\n",
       "    </tr>\n",
       "    <tr>\n",
       "      <th>2</th>\n",
       "      <td>5.0</td>\n",
       "      <td>25</td>\n",
       "      <td>50</td>\n",
       "      <td>14</td>\n",
       "      <td>37</td>\n",
       "      <td>6</td>\n",
       "      <td>42</td>\n",
       "      <td>43</td>\n",
       "      <td>11</td>\n",
       "      <td>0</td>\n",
       "      <td>10</td>\n",
       "      <td>54</td>\n",
       "      <td>4</td>\n",
       "      <td>62</td>\n",
       "      <td>3.409814</td>\n",
       "      <td>3.667109</td>\n",
       "      <td>3.600796</td>\n",
       "      <td>3.631300</td>\n",
       "      <td>3.830239</td>\n",
       "      <td>377</td>\n",
       "    </tr>\n",
       "    <tr>\n",
       "      <th>3</th>\n",
       "      <td>8.5</td>\n",
       "      <td>25</td>\n",
       "      <td>50</td>\n",
       "      <td>13</td>\n",
       "      <td>55</td>\n",
       "      <td>31</td>\n",
       "      <td>47</td>\n",
       "      <td>101</td>\n",
       "      <td>18</td>\n",
       "      <td>1</td>\n",
       "      <td>49</td>\n",
       "      <td>40</td>\n",
       "      <td>16</td>\n",
       "      <td>119</td>\n",
       "      <td>4.148098</td>\n",
       "      <td>4.033967</td>\n",
       "      <td>4.150815</td>\n",
       "      <td>4.205163</td>\n",
       "      <td>4.005435</td>\n",
       "      <td>368</td>\n",
       "    </tr>\n",
       "    <tr>\n",
       "      <th>4</th>\n",
       "      <td>7.2</td>\n",
       "      <td>25</td>\n",
       "      <td>50</td>\n",
       "      <td>25</td>\n",
       "      <td>51</td>\n",
       "      <td>26</td>\n",
       "      <td>44</td>\n",
       "      <td>45</td>\n",
       "      <td>9</td>\n",
       "      <td>1</td>\n",
       "      <td>11</td>\n",
       "      <td>51</td>\n",
       "      <td>20</td>\n",
       "      <td>95</td>\n",
       "      <td>3.625000</td>\n",
       "      <td>3.973958</td>\n",
       "      <td>3.734375</td>\n",
       "      <td>3.765625</td>\n",
       "      <td>3.817708</td>\n",
       "      <td>96</td>\n",
       "    </tr>\n",
       "  </tbody>\n",
       "</table>\n",
       "</div>"
      ],
      "text/plain": [
       "   ABV  Min IBU  Max IBU  Astringency  Body  Alcohol  Bitter  Sweet  Sour  \\\n",
       "0  5.3       25       50           13    32        9      47     74    33   \n",
       "1  7.2       25       50           12    57       18      33     55    16   \n",
       "2  5.0       25       50           14    37        6      42     43    11   \n",
       "3  8.5       25       50           13    55       31      47    101    18   \n",
       "4  7.2       25       50           25    51       26      44     45     9   \n",
       "\n",
       "   Salty  Fruits  Hoppy  Spices  Malty  review_aroma  review_appearance  \\\n",
       "0      0      33     57       8    111      3.498994           3.636821   \n",
       "1      0      24     35      12     84      3.798337           3.846154   \n",
       "2      0      10     54       4     62      3.409814           3.667109   \n",
       "3      1      49     40      16    119      4.148098           4.033967   \n",
       "4      1      11     51      20     95      3.625000           3.973958   \n",
       "\n",
       "   review_palate  review_taste  review_overall  number_of_reviews  \n",
       "0       3.556338      3.643863        3.847082                497  \n",
       "1       3.904366      4.024948        4.034304                481  \n",
       "2       3.600796      3.631300        3.830239                377  \n",
       "3       4.150815      4.205163        4.005435                368  \n",
       "4       3.734375      3.765625        3.817708                 96  "
      ]
     },
     "execution_count": 9,
     "metadata": {},
     "output_type": "execute_result"
    }
   ],
   "source": [
    "X.head()"
   ]
  },
  {
   "cell_type": "code",
   "execution_count": 10,
   "id": "2ed46a44",
   "metadata": {},
   "outputs": [
    {
     "data": {
      "image/png": "[encoded data removed]",
      "text/plain": [
       "<Figure size 432x288 with 1 Axes>"
      ]
     },
     "metadata": {
      "needs_background": "light"
     },
     "output_type": "display_data"
    }
   ],
   "source": [
    "# Create a scatter plot of two variables\n",
    "plt.scatter(df['ABV'], df['review_overall'])\n",
    "\n",
    "# Add axis labels and a title\n",
    "plt.xlabel('Alcohol Percentage (ABV)')\n",
    "plt.ylabel('Review Score')\n",
    "plt.title('Relationship between ABV, Scores')\n",
    "\n",
    "# Show the plot\n",
    "plt.show()"
   ]
  },
  {
   "cell_type": "markdown",
   "id": "c8610fcc",
   "metadata": {},
   "source": [
    "Here, we are looking at if there is a relationship between alcohol percentage and review score, but from the plot it seems there isn't a correlation. Let's see how good our model is given that it seems each of these variables don't correlate too much to the rating."
   ]
  },
  {
   "cell_type": "code",
   "execution_count": 11,
   "id": "681c58b4",
   "metadata": {},
   "outputs": [],
   "source": [
    "# Split the data into training and testing sets\n",
    "X_train, X_test, y_train, y_test = train_test_split(X, y, test_size=0.2, random_state=42)"
   ]
  },
  {
   "cell_type": "code",
   "execution_count": 12,
   "id": "00d031af",
   "metadata": {},
   "outputs": [],
   "source": [
    "# convert everything to float for ease of use\n",
    "X_train = np.array(X_train, dtype=np.float32)\n",
    "y_train = np.array(y_train, dtype=np.float32)\n",
    "X_test = np.array(X_test, dtype=np.float32)\n",
    "y_test = np.array(y_test, dtype=np.float32)"
   ]
  },
  {
   "cell_type": "markdown",
   "id": "386bd2c6",
   "metadata": {},
   "source": [
    "# Proposed Solution:\n",
    "We will first create a baseline linear regression model to get a feel for how it performs. We don't expect this to be great, because it will train slow compared to a neural network and is prone to outliers. However, it will help determine the relationship between features and help select which features are the most important to help other models. \n",
    "\n",
    "From these results, we will create a fully connected neural network, which is useful because it can use backpropogation to fix previous misclassifications. This will make the model much more accurate. However, because of our limited data, we may expect overfitting on the model. To try to deal with this, we will also use adam as our optimizer; since an adaptive learning rate can help emphasize important features in the middle of training.\n",
    "\n",
    "Finally, using the neural network, we will create a basic recommendation system that takes input from the user and inputs into our model to predict. We will need to add some logic to return the name of the beer that the model prediction corresponds to."
   ]
  },
  {
   "cell_type": "markdown",
   "id": "06a34548",
   "metadata": {},
   "source": [
    "# Evaluation Metrics:\n",
    "\n",
    "Our model isn't doing any classification, we already know all drinks that we predict are going to be beers. That means things like confusion matricies, F1 score, precision, etc. are not applicable. Instead, we would have to use things like Mean Absolute Error, Root Mean Squared Error, and R2 correlation coefficients to evaluate our models. \n",
    "\n",
    "MAE is less sensitive to outliers than other metrics and is interpretable while RMSE penalizes the large errors. We will take both of these factors into account when choosing the best model and analyzing our results. Further, we can also use R2 correlation coefficient to help assess how good our predicted model is on the data."
   ]
  },
  {
   "cell_type": "code",
   "execution_count": 13,
   "id": "121e21fe",
   "metadata": {},
   "outputs": [],
   "source": [
    "from sklearn.metrics import mean_absolute_error, mean_squared_error, r2_score"
   ]
  },
  {
   "cell_type": "markdown",
   "id": "8b441eeb",
   "metadata": {},
   "source": [
    "This is also another metric we use to create visualizations to see the error between the predicted and true ratings."
   ]
  },
  {
   "cell_type": "code",
   "execution_count": 14,
   "id": "fe5fa174",
   "metadata": {},
   "outputs": [],
   "source": [
    "def get_rating_diff(y_pred_ratings, y_test):\n",
    "    \"\"\"\n",
    "    This function returns the difference between each predicting rating and the actual rating\n",
    "    \"\"\"\n",
    "    return [np.absolute(pred_rating - true_rating) for pred_rating, true_rating in zip(y_pred_ratings, y_test)]\n",
    " "
   ]
  },
  {
   "cell_type": "markdown",
   "id": "b5f4fd81",
   "metadata": {},
   "source": [
    "# Preliminary Results:"
   ]
  },
  {
   "cell_type": "markdown",
   "id": "33b99256",
   "metadata": {},
   "source": [
    "Here, we will train our baseline model, using a simple linear regression and see the performance."
   ]
  },
  {
   "cell_type": "code",
   "execution_count": 15,
   "id": "d44314dc",
   "metadata": {},
   "outputs": [],
   "source": [
    "from sklearn.tree import DecisionTreeRegressor, plot_tree\n",
    "model = DecisionTreeRegressor(max_depth=3)"
   ]
  },
  {
   "cell_type": "code",
   "execution_count": 16,
   "id": "13004c01",
   "metadata": {},
   "outputs": [
    {
     "data": {
      "text/plain": [
       "DecisionTreeRegressor(max_depth=3)"
      ]
     },
     "execution_count": 16,
     "metadata": {},
     "output_type": "execute_result"
    }
   ],
   "source": [
    "model.fit(X_train,y_train)"
   ]
  },
  {
   "cell_type": "code",
   "execution_count": 17,
   "id": "2e3d0a43",
   "metadata": {},
   "outputs": [],
   "source": [
    "y_pred_ratings = model.predict(X_test)"
   ]
  },
  {
   "cell_type": "code",
   "execution_count": 18,
   "id": "886cfdc2",
   "metadata": {},
   "outputs": [
    {
     "data": {
      "text/plain": [
       "array([3.83113682, 3.34068218, 4.06092513, 4.06092513, 2.59880472])"
      ]
     },
     "execution_count": 18,
     "metadata": {},
     "output_type": "execute_result"
    }
   ],
   "source": [
    "y_pred_ratings[:5]"
   ]
  },
  {
   "cell_type": "code",
   "execution_count": 19,
   "id": "44c64657",
   "metadata": {},
   "outputs": [
    {
     "data": {
      "text/plain": [
       "array([3.82622 , 3.229075, 4.109873, 4.093052, 2.383268], dtype=float32)"
      ]
     },
     "execution_count": 19,
     "metadata": {},
     "output_type": "execute_result"
    }
   ],
   "source": [
    "y_test[:5]"
   ]
  },
  {
   "cell_type": "code",
   "execution_count": 20,
   "id": "3aaf10fa",
   "metadata": {},
   "outputs": [],
   "source": [
    "rating_diffs=get_rating_diff(y_pred_ratings,y_test)"
   ]
  },
  {
   "cell_type": "code",
   "execution_count": 21,
   "id": "294adb0e",
   "metadata": {},
   "outputs": [
    {
     "data": {
      "image/png": "[encoded data removed]",
      "text/plain": [
       "<Figure size 432x288 with 1 Axes>"
      ]
     },
     "metadata": {
      "needs_background": "light"
     },
     "output_type": "display_data"
    }
   ],
   "source": [
    "sns.boxplot(y=rating_diffs)\n",
    "plt.ylabel('Error out of 5 stars')\n",
    "plt.show()"
   ]
  },
  {
   "cell_type": "markdown",
   "id": "36815468",
   "metadata": {},
   "source": [
    "From our boxplot, we can see that the average error of our predicted rating is around 0.2 stars, and there are quite a few outliers. Additionally the 75th percentile is at 0.6 stars, which is a pretty significant amount in a 5 star rating system."
   ]
  },
  {
   "cell_type": "code",
   "execution_count": 22,
   "id": "16dd1bd7",
   "metadata": {},
   "outputs": [
    {
     "data": {
      "text/plain": [
       "0.0693127267064461"
      ]
     },
     "execution_count": 22,
     "metadata": {},
     "output_type": "execute_result"
    }
   ],
   "source": [
    "mae = mean_absolute_error(y_test, y_pred_ratings)\n",
    "mae"
   ]
  },
  {
   "cell_type": "code",
   "execution_count": 23,
   "id": "836a1012",
   "metadata": {},
   "outputs": [
    {
     "data": {
      "text/plain": [
       "0.08874716455994469"
      ]
     },
     "execution_count": 23,
     "metadata": {},
     "output_type": "execute_result"
    }
   ],
   "source": [
    "rmse = np.sqrt(mean_squared_error(y_test, y_pred_ratings))\n",
    "rmse"
   ]
  },
  {
   "cell_type": "code",
   "execution_count": 24,
   "id": "b4e987b8",
   "metadata": {},
   "outputs": [
    {
     "data": {
      "text/plain": [
       "0.9568244595788258"
      ]
     },
     "execution_count": 24,
     "metadata": {},
     "output_type": "execute_result"
    }
   ],
   "source": [
    "r2 = r2_score(y_test, y_pred_ratings)\n",
    "r2"
   ]
  },
  {
   "cell_type": "markdown",
   "id": "14f23240",
   "metadata": {},
   "source": [
    "We actually have really low errors, but we believe this is because the tree is overfitting on the training data and there isn't enough test data to accurately reflect this. An absolute error of 0.07 and rmse of 0.09 seems a little unreasonable when we can see that our box plot doesn't agree with this, and a super high value of r2 also leads us to believe the model is overfitting."
   ]
  },
  {
   "cell_type": "markdown",
   "id": "fcd63ca2",
   "metadata": {},
   "source": [
    "# Ethics/Privacy:\n",
    "\n",
    "There is definitely bias when in this dataset. We say this because as humans, we don't really rate things 0 or 5 on a 0-5 scale. Unless something is super bad or super good, we probably would rate it in between something like 3.5 to 4.5. This can severely affect our model predictions, but doesn't really have a good solution for it. \n",
    "\n",
    "Additionally, the ratings of some samples may occur when a person is already drunk, causing them to rate much higher or lower than if they were sober. It may also depend on how much fun they had while drunk. This also is sampling error, which we can't do much about."
   ]
  },
  {
   "cell_type": "markdown",
   "id": "7dab01b3",
   "metadata": {},
   "source": [
    "# Team Expectations\n",
    "\n",
    "* Be available on the weekends to work together if neccessary, otherwise individually complete assigned work during weekday\n",
    "* Inform all team members through group chat on updates/something is pushed to github\n",
    "* Finish all required parts at least 2 days before deadline is due"
   ]
  },
  {
   "cell_type": "markdown",
   "id": "78661027",
   "metadata": {},
   "source": [
    "# Project Timeline Proposal\n",
    "\n",
    "\n",
    "| Meeting Date  | Meeting Time| Completed Before Meeting  | Discuss at Meeting |\n",
    "|---|---|---|---|\n",
    "| 2/16  |  1 PM |  Brainstorm topics/questions (all)  | Determine best form of communication; Discuss and decide on final project topic; discuss hypothesis; begin background research | \n",
    "| 2/17  |  10 AM |  Do background research on topic and come up with basic model (George) | Discuss ideal dataset(s) and ethics; draft project proposal | \n",
    "| 2/20  | 10 PM  | Edit, finalize, and submit proposal; Search for datasets (All)  | Assign group members to lead each specific part   |\n",
    "| 3/1  | 6 PM  | Begin Neural Network architecture design/programming(George) | Discuss Analysis Plan   |\n",
    "| 3/4 | 12 PM  | Write recommendation system(George) | Discuss/edit project code; Complete project |\n",
    "| 3/12  | 12 PM  | Draft results/conclusion/discussion (Xinyao/Yingnan)| Discuss/edit full project |\n",
    "| 3/19  | Before 11:59 PM  | NA | Turn in Final Project  |"
   ]
  },
  {
   "cell_type": "markdown",
   "id": "feb4ad2d",
   "metadata": {},
   "source": [
    "# Footnotes"
   ]
  },
  {
   "cell_type": "markdown",
   "id": "baa650ab",
   "metadata": {},
   "source": [
    "<a name=\"preferences\">1</a>: AI of Things, one Telefonica Tech´s business unit. “The Use of AI and Machine Learning in the Beer Industry.” Think Big/Business, 18 June 2021, https://business.blogthinkbig.com/the-use-of-ai-and-machine-learning-in-the-beer-industry/. <br>\n",
    "\n",
    "<a name=\"classification\">2</a>: da Costa, Nattane Luíza, et al. “A Review on the Application of Chemometrics and Machine Learning Algorithms to Evaluate Beer Authentication - Food Analytical Methods.” SpringerLink, Springer US, 26 Sept. 2020, https://link.springer.com/article/10.1007/s12161-020-01864-7. \n",
    "\n",
    "\n",
    "<a name=\"beer\">3</a>: Editor, MathWorks. “Making Better Beer and Wine with Data and Machine Learning.” Medium, MathWorks, 23 Sept. 2020, https://medium.com/mathworks/making-better-beer-and-wine-with-data-and-machine-learning-dd04459f53b7. "
   ]
  },
  {
   "cell_type": "markdown",
   "id": "2286ba5f",
   "metadata": {},
   "source": [
    "## Fully Connected neural network"
   ]
  },
  {
   "cell_type": "code",
   "execution_count": 25,
   "id": "4d61e711",
   "metadata": {},
   "outputs": [],
   "source": [
    "from keras.models import Sequential\n",
    "from keras.layers import Dense"
   ]
  },
  {
   "cell_type": "code",
   "execution_count": 26,
   "id": "a5ad81a4",
   "metadata": {},
   "outputs": [
    {
     "name": "stderr",
     "output_type": "stream",
     "text": [
      "2023-03-05 08:08:03.878975: W tensorflow/compiler/xla/stream_executor/platform/default/dso_loader.cc:64] Could not load dynamic library 'libcuda.so.1'; dlerror: libcuda.so.1: cannot open shared object file: No such file or directory\n",
      "2023-03-05 08:08:03.879033: W tensorflow/compiler/xla/stream_executor/cuda/cuda_driver.cc:265] failed call to cuInit: UNKNOWN ERROR (303)\n",
      "2023-03-05 08:08:03.879077: I tensorflow/compiler/xla/stream_executor/cuda/cuda_diagnostics.cc:156] kernel driver does not appear to be running on this host (dsmlp-jupyter-g9liu): /proc/driver/nvidia/version does not exist\n",
      "2023-03-05 08:08:03.879387: I tensorflow/core/platform/cpu_feature_guard.cc:193] This TensorFlow binary is optimized with oneAPI Deep Neural Network Library (oneDNN) to use the following CPU instructions in performance-critical operations:  AVX2 FMA\n",
      "To enable them in other operations, rebuild TensorFlow with the appropriate compiler flags.\n"
     ]
    }
   ],
   "source": [
    "# model selection\n",
    "model = Sequential()\n",
    "model.add(Dense(64, input_shape=(20,), activation='relu'))\n",
    "model.add(Dense(32, activation='relu'))\n",
    "model.add(Dense(16, activation='relu'))\n",
    "model.add(Dense(8, activation='relu'))\n",
    "model.add(Dense(1, activation='linear'))"
   ]
  },
  {
   "cell_type": "markdown",
   "id": "ef27868d",
   "metadata": {},
   "source": [
    "### Model Selection\n",
    "\n",
    "We purposely decided to use relu and linear activation functions because we are dealing with a regression task. Relu allows us to train very efficient and linear activation function doesn't provide any bound restrictions on our predictions, which is what we want."
   ]
  },
  {
   "cell_type": "code",
   "execution_count": 27,
   "id": "43e88c0e",
   "metadata": {},
   "outputs": [],
   "source": [
    "# Compile the model\n",
    "model.compile(optimizer='adam', loss='mean_squared_error')"
   ]
  },
  {
   "cell_type": "code",
   "execution_count": 28,
   "id": "85ccab29",
   "metadata": {},
   "outputs": [
    {
     "name": "stdout",
     "output_type": "stream",
     "text": [
      "Epoch 1/100\n",
      "64/64 [==============================] - 1s 7ms/step - loss: 219.2885 - val_loss: 6.3826\n",
      "Epoch 2/100\n",
      "64/64 [==============================] - 0s 4ms/step - loss: 5.2280 - val_loss: 4.0512\n",
      "Epoch 3/100\n",
      "64/64 [==============================] - 0s 3ms/step - loss: 3.5192 - val_loss: 3.0792\n",
      "Epoch 4/100\n",
      "64/64 [==============================] - 0s 4ms/step - loss: 2.2984 - val_loss: 2.1042\n",
      "Epoch 5/100\n",
      "64/64 [==============================] - 0s 4ms/step - loss: 1.5023 - val_loss: 1.3645\n",
      "Epoch 6/100\n",
      "64/64 [==============================] - 0s 4ms/step - loss: 1.0379 - val_loss: 1.0482\n",
      "Epoch 7/100\n",
      "64/64 [==============================] - 0s 4ms/step - loss: 0.8102 - val_loss: 0.8361\n",
      "Epoch 8/100\n",
      "64/64 [==============================] - 0s 4ms/step - loss: 0.6527 - val_loss: 0.6975\n",
      "Epoch 9/100\n",
      "64/64 [==============================] - 0s 5ms/step - loss: 0.5031 - val_loss: 0.6974\n",
      "Epoch 10/100\n",
      "64/64 [==============================] - 0s 5ms/step - loss: 0.4328 - val_loss: 0.5063\n",
      "Epoch 11/100\n",
      "64/64 [==============================] - 0s 4ms/step - loss: 0.3766 - val_loss: 0.5032\n",
      "Epoch 12/100\n",
      "64/64 [==============================] - 0s 4ms/step - loss: 0.3518 - val_loss: 0.4017\n",
      "Epoch 13/100\n",
      "64/64 [==============================] - 0s 4ms/step - loss: 0.3079 - val_loss: 0.3716\n",
      "Epoch 14/100\n",
      "64/64 [==============================] - 0s 5ms/step - loss: 0.2837 - val_loss: 0.3385\n",
      "Epoch 15/100\n",
      "64/64 [==============================] - 0s 4ms/step - loss: 0.2583 - val_loss: 0.3190\n",
      "Epoch 16/100\n",
      "64/64 [==============================] - 0s 4ms/step - loss: 0.2371 - val_loss: 0.3551\n",
      "Epoch 17/100\n",
      "64/64 [==============================] - 0s 4ms/step - loss: 0.2319 - val_loss: 0.2981\n",
      "Epoch 18/100\n",
      "64/64 [==============================] - 0s 4ms/step - loss: 0.1990 - val_loss: 0.2594\n",
      "Epoch 19/100\n",
      "64/64 [==============================] - 0s 4ms/step - loss: 0.1838 - val_loss: 0.2460\n",
      "Epoch 20/100\n",
      "64/64 [==============================] - 0s 4ms/step - loss: 0.1695 - val_loss: 0.2533\n",
      "Epoch 21/100\n",
      "64/64 [==============================] - 0s 4ms/step - loss: 0.1603 - val_loss: 0.2479\n",
      "Epoch 22/100\n",
      "64/64 [==============================] - 0s 4ms/step - loss: 0.1615 - val_loss: 0.2279\n",
      "Epoch 23/100\n",
      "64/64 [==============================] - 0s 4ms/step - loss: 0.1360 - val_loss: 0.2019\n",
      "Epoch 24/100\n",
      "64/64 [==============================] - 0s 4ms/step - loss: 0.1372 - val_loss: 0.1854\n",
      "Epoch 25/100\n",
      "64/64 [==============================] - 0s 4ms/step - loss: 0.1475 - val_loss: 0.2174\n",
      "Epoch 26/100\n",
      "64/64 [==============================] - 0s 4ms/step - loss: 0.1556 - val_loss: 0.2085\n",
      "Epoch 27/100\n",
      "64/64 [==============================] - 0s 4ms/step - loss: 0.1177 - val_loss: 0.1757\n",
      "Epoch 28/100\n",
      "64/64 [==============================] - 0s 3ms/step - loss: 0.1207 - val_loss: 0.1740\n",
      "Epoch 29/100\n",
      "64/64 [==============================] - 0s 3ms/step - loss: 0.1364 - val_loss: 0.1662\n",
      "Epoch 30/100\n",
      "64/64 [==============================] - 0s 4ms/step - loss: 0.1115 - val_loss: 0.1514\n",
      "Epoch 31/100\n",
      "64/64 [==============================] - 0s 4ms/step - loss: 0.1058 - val_loss: 0.1442\n",
      "Epoch 32/100\n",
      "64/64 [==============================] - 0s 4ms/step - loss: 0.1009 - val_loss: 0.1410\n",
      "Epoch 33/100\n",
      "64/64 [==============================] - 0s 4ms/step - loss: 0.0999 - val_loss: 0.1422\n",
      "Epoch 34/100\n",
      "64/64 [==============================] - 0s 4ms/step - loss: 0.1125 - val_loss: 0.1715\n",
      "Epoch 35/100\n",
      "64/64 [==============================] - 0s 5ms/step - loss: 0.0957 - val_loss: 0.1371\n",
      "Epoch 36/100\n",
      "64/64 [==============================] - 0s 4ms/step - loss: 0.0829 - val_loss: 0.1260\n",
      "Epoch 37/100\n",
      "64/64 [==============================] - 0s 4ms/step - loss: 0.0969 - val_loss: 0.1212\n",
      "Epoch 38/100\n",
      "64/64 [==============================] - 0s 4ms/step - loss: 0.1687 - val_loss: 0.1249\n",
      "Epoch 39/100\n",
      "64/64 [==============================] - 0s 4ms/step - loss: 0.1387 - val_loss: 0.1230\n",
      "Epoch 40/100\n",
      "64/64 [==============================] - 0s 3ms/step - loss: 0.0712 - val_loss: 0.1156\n",
      "Epoch 41/100\n",
      "64/64 [==============================] - 0s 4ms/step - loss: 0.0959 - val_loss: 0.1233\n",
      "Epoch 42/100\n",
      "64/64 [==============================] - 0s 4ms/step - loss: 0.0992 - val_loss: 0.1061\n",
      "Epoch 43/100\n",
      "64/64 [==============================] - 0s 5ms/step - loss: 0.0583 - val_loss: 0.0933\n",
      "Epoch 44/100\n",
      "64/64 [==============================] - 0s 4ms/step - loss: 0.0541 - val_loss: 0.0919\n",
      "Epoch 45/100\n",
      "64/64 [==============================] - 0s 4ms/step - loss: 0.0662 - val_loss: 0.0978\n",
      "Epoch 46/100\n",
      "64/64 [==============================] - 0s 4ms/step - loss: 0.0726 - val_loss: 0.1622\n",
      "Epoch 47/100\n",
      "64/64 [==============================] - 0s 4ms/step - loss: 0.0927 - val_loss: 0.0944\n",
      "Epoch 48/100\n",
      "64/64 [==============================] - 0s 4ms/step - loss: 0.0601 - val_loss: 0.0990\n",
      "Epoch 49/100\n",
      "64/64 [==============================] - 0s 3ms/step - loss: 0.0512 - val_loss: 0.0889\n",
      "Epoch 50/100\n",
      "64/64 [==============================] - 0s 3ms/step - loss: 0.0545 - val_loss: 0.1026\n",
      "Epoch 51/100\n",
      "64/64 [==============================] - 0s 3ms/step - loss: 0.0588 - val_loss: 0.0910\n",
      "Epoch 52/100\n",
      "64/64 [==============================] - 0s 4ms/step - loss: 0.0666 - val_loss: 0.0795\n",
      "Epoch 53/100\n",
      "64/64 [==============================] - 0s 4ms/step - loss: 0.0527 - val_loss: 0.0876\n",
      "Epoch 54/100\n",
      "64/64 [==============================] - 0s 5ms/step - loss: 0.0646 - val_loss: 0.0913\n",
      "Epoch 55/100\n",
      "64/64 [==============================] - 0s 4ms/step - loss: 0.0459 - val_loss: 0.0763\n",
      "Epoch 56/100\n",
      "64/64 [==============================] - 0s 4ms/step - loss: 0.0565 - val_loss: 0.0721\n",
      "Epoch 57/100\n",
      "64/64 [==============================] - 0s 4ms/step - loss: 0.0504 - val_loss: 0.0842\n",
      "Epoch 58/100\n",
      "64/64 [==============================] - 0s 4ms/step - loss: 0.0684 - val_loss: 0.0822\n",
      "Epoch 59/100\n",
      "64/64 [==============================] - 0s 4ms/step - loss: 0.0505 - val_loss: 0.0843\n",
      "Epoch 60/100\n",
      "64/64 [==============================] - 0s 4ms/step - loss: 0.0437 - val_loss: 0.0711\n",
      "Epoch 61/100\n",
      "64/64 [==============================] - 0s 5ms/step - loss: 0.0490 - val_loss: 0.1263\n",
      "Epoch 62/100\n",
      "64/64 [==============================] - 0s 5ms/step - loss: 0.1885 - val_loss: 0.1013\n",
      "Epoch 63/100\n",
      "64/64 [==============================] - 0s 5ms/step - loss: 0.3838 - val_loss: 0.1133\n",
      "Epoch 64/100\n",
      "64/64 [==============================] - 0s 5ms/step - loss: 0.2044 - val_loss: 0.1152\n",
      "Epoch 65/100\n",
      "64/64 [==============================] - 0s 4ms/step - loss: 0.0579 - val_loss: 0.0817\n",
      "Epoch 66/100\n",
      "64/64 [==============================] - 0s 5ms/step - loss: 0.0497 - val_loss: 0.0654\n",
      "Epoch 67/100\n",
      "64/64 [==============================] - 0s 5ms/step - loss: 0.0411 - val_loss: 0.0673\n",
      "Epoch 68/100\n",
      "64/64 [==============================] - 0s 4ms/step - loss: 0.0334 - val_loss: 0.0594\n",
      "Epoch 69/100\n",
      "64/64 [==============================] - 0s 4ms/step - loss: 0.0309 - val_loss: 0.0575\n",
      "Epoch 70/100\n",
      "64/64 [==============================] - 0s 5ms/step - loss: 0.0902 - val_loss: 0.0859\n",
      "Epoch 71/100\n",
      "64/64 [==============================] - 0s 4ms/step - loss: 0.0375 - val_loss: 0.0612\n",
      "Epoch 72/100\n",
      "64/64 [==============================] - 0s 4ms/step - loss: 0.1227 - val_loss: 0.1971\n",
      "Epoch 73/100\n",
      "64/64 [==============================] - 0s 5ms/step - loss: 0.0998 - val_loss: 0.0632\n",
      "Epoch 74/100\n",
      "64/64 [==============================] - 0s 4ms/step - loss: 0.0702 - val_loss: 0.0548\n",
      "Epoch 75/100\n",
      "64/64 [==============================] - 0s 4ms/step - loss: 0.0733 - val_loss: 0.0852\n",
      "Epoch 76/100\n",
      "64/64 [==============================] - 0s 4ms/step - loss: 0.0408 - val_loss: 0.0659\n",
      "Epoch 77/100\n",
      "64/64 [==============================] - 0s 5ms/step - loss: 0.0465 - val_loss: 0.0576\n",
      "Epoch 78/100\n",
      "64/64 [==============================] - 0s 5ms/step - loss: 0.0611 - val_loss: 0.0834\n",
      "Epoch 79/100\n",
      "64/64 [==============================] - 0s 4ms/step - loss: 0.0795 - val_loss: 0.1140\n",
      "Epoch 80/100\n",
      "64/64 [==============================] - 0s 4ms/step - loss: 0.0959 - val_loss: 0.1531\n",
      "Epoch 81/100\n",
      "64/64 [==============================] - 0s 4ms/step - loss: 0.0451 - val_loss: 0.0790\n",
      "Epoch 82/100\n",
      "64/64 [==============================] - 0s 4ms/step - loss: 0.0455 - val_loss: 0.0620\n"
     ]
    },
    {
     "name": "stdout",
     "output_type": "stream",
     "text": [
      "Epoch 83/100\n",
      "64/64 [==============================] - 0s 5ms/step - loss: 0.0332 - val_loss: 0.0616\n",
      "Epoch 84/100\n",
      "64/64 [==============================] - 0s 4ms/step - loss: 0.0475 - val_loss: 0.1055\n",
      "Epoch 85/100\n",
      "64/64 [==============================] - 0s 4ms/step - loss: 0.1378 - val_loss: 0.1032\n",
      "Epoch 86/100\n",
      "64/64 [==============================] - 0s 3ms/step - loss: 0.1442 - val_loss: 0.0535\n",
      "Epoch 87/100\n",
      "64/64 [==============================] - 0s 3ms/step - loss: 0.0538 - val_loss: 0.0535\n",
      "Epoch 88/100\n",
      "64/64 [==============================] - 0s 4ms/step - loss: 0.0668 - val_loss: 0.1136\n",
      "Epoch 89/100\n",
      "64/64 [==============================] - 0s 3ms/step - loss: 0.0789 - val_loss: 0.0561\n",
      "Epoch 90/100\n",
      "64/64 [==============================] - 0s 3ms/step - loss: 0.0682 - val_loss: 0.0562\n",
      "Epoch 91/100\n",
      "64/64 [==============================] - 0s 3ms/step - loss: 0.0754 - val_loss: 0.0491\n",
      "Epoch 92/100\n",
      "64/64 [==============================] - 0s 3ms/step - loss: 0.0456 - val_loss: 0.0679\n",
      "Epoch 93/100\n",
      "64/64 [==============================] - 0s 4ms/step - loss: 0.0363 - val_loss: 0.0451\n",
      "Epoch 94/100\n",
      "64/64 [==============================] - 0s 3ms/step - loss: 0.0500 - val_loss: 0.4244\n",
      "Epoch 95/100\n",
      "64/64 [==============================] - 0s 3ms/step - loss: 0.1877 - val_loss: 0.0999\n",
      "Epoch 96/100\n",
      "64/64 [==============================] - 0s 3ms/step - loss: 0.1269 - val_loss: 0.1162\n",
      "Epoch 97/100\n",
      "64/64 [==============================] - 0s 3ms/step - loss: 0.0368 - val_loss: 0.0563\n",
      "Epoch 98/100\n",
      "64/64 [==============================] - 0s 3ms/step - loss: 0.0487 - val_loss: 0.0680\n",
      "Epoch 99/100\n",
      "64/64 [==============================] - 0s 3ms/step - loss: 0.1242 - val_loss: 0.0690\n",
      "Epoch 100/100\n",
      "64/64 [==============================] - 0s 4ms/step - loss: 0.0882 - val_loss: 0.0480\n"
     ]
    },
    {
     "data": {
      "text/plain": [
       "<keras.callbacks.History at 0x7fbe1cca86a0>"
      ]
     },
     "execution_count": 28,
     "metadata": {},
     "output_type": "execute_result"
    }
   ],
   "source": [
    "# Train the model\n",
    "model.fit(X_train, y_train, epochs=100, batch_size=32, validation_split=0.2)"
   ]
  },
  {
   "cell_type": "code",
   "execution_count": 29,
   "id": "c542dcdf",
   "metadata": {},
   "outputs": [
    {
     "name": "stderr",
     "output_type": "stream",
     "text": [
      "WARNING:absl:Found untraced functions such as _update_step_xla while saving (showing 1 of 1). These functions will not be directly callable after loading.\n"
     ]
    },
    {
     "name": "stdout",
     "output_type": "stream",
     "text": [
      "INFO:tensorflow:Assets written to: beer_nn/assets\n"
     ]
    },
    {
     "name": "stderr",
     "output_type": "stream",
     "text": [
      "INFO:tensorflow:Assets written to: beer_nn/assets\n"
     ]
    }
   ],
   "source": [
    "model.save(\"beer_nn\")"
   ]
  },
  {
   "cell_type": "code",
   "execution_count": 30,
   "id": "4d73e8f0",
   "metadata": {},
   "outputs": [
    {
     "name": "stdout",
     "output_type": "stream",
     "text": [
      "20/20 [==============================] - 0s 1ms/step\n"
     ]
    }
   ],
   "source": [
    "# Evaluate the model on the test set\n",
    "y_pred_ratings = model.predict(X_test)\n",
    "y_pred_ratings = np.clip(y_pred_ratings, 0, 5)"
   ]
  },
  {
   "cell_type": "code",
   "execution_count": 31,
   "id": "90512c9d",
   "metadata": {},
   "outputs": [
    {
     "data": {
      "text/plain": [
       "array([[3.6552749],\n",
       "       [3.195127 ],\n",
       "       [4.3222194],\n",
       "       [4.1671596],\n",
       "       [2.3668227]], dtype=float32)"
      ]
     },
     "execution_count": 31,
     "metadata": {},
     "output_type": "execute_result"
    }
   ],
   "source": [
    "y_pred_ratings[:5]"
   ]
  },
  {
   "cell_type": "code",
   "execution_count": 32,
   "id": "fed0ff1e",
   "metadata": {},
   "outputs": [
    {
     "data": {
      "text/plain": [
       "array([3.82622 , 3.229075, 4.109873, 4.093052, 2.383268], dtype=float32)"
      ]
     },
     "execution_count": 32,
     "metadata": {},
     "output_type": "execute_result"
    }
   ],
   "source": [
    "y_test[:5]"
   ]
  },
  {
   "cell_type": "code",
   "execution_count": 33,
   "id": "8c6ec9d0",
   "metadata": {
    "scrolled": true
   },
   "outputs": [],
   "source": [
    "rating_diffs=get_rating_diff(y_pred_ratings,y_test)\n",
    "rating_diffs=[rating[0] for rating in rating_diffs]"
   ]
  },
  {
   "cell_type": "code",
   "execution_count": 34,
   "id": "28b37d51",
   "metadata": {},
   "outputs": [
    {
     "data": {
      "image/png": "[encoded data removed]",
      "text/plain": [
       "<Figure size 432x288 with 1 Axes>"
      ]
     },
     "metadata": {
      "needs_background": "light"
     },
     "output_type": "display_data"
    }
   ],
   "source": [
    "sns.boxplot(y=rating_diffs)\n",
    "plt.ylabel('Error out of 5 stars')\n",
    "plt.show()"
   ]
  },
  {
   "cell_type": "markdown",
   "id": "23d4ce38",
   "metadata": {},
   "source": [
    "As we can see, the average error as well as the 75th percentile displayed in the boxplot for the neural network is lower than our original baseline, so this model performs a little bit better."
   ]
  },
  {
   "cell_type": "markdown",
   "id": "ff687770",
   "metadata": {},
   "source": [
    "Our problem is not a classification problem, so we can't use things like confusion matricies and therefore f1 score, precision, recall are not appropriate."
   ]
  },
  {
   "cell_type": "code",
   "execution_count": 35,
   "id": "1573f725",
   "metadata": {},
   "outputs": [
    {
     "data": {
      "text/plain": [
       "0.1571799"
      ]
     },
     "execution_count": 35,
     "metadata": {},
     "output_type": "execute_result"
    }
   ],
   "source": [
    "mae = mean_absolute_error(y_test, y_pred_ratings)\n",
    "mae"
   ]
  },
  {
   "cell_type": "code",
   "execution_count": 36,
   "id": "2a5cbac0",
   "metadata": {},
   "outputs": [
    {
     "data": {
      "text/plain": [
       "0.20865446"
      ]
     },
     "execution_count": 36,
     "metadata": {},
     "output_type": "execute_result"
    }
   ],
   "source": [
    "rmse = np.sqrt(mean_squared_error(y_test, y_pred_ratings))\n",
    "rmse"
   ]
  },
  {
   "cell_type": "code",
   "execution_count": 37,
   "id": "ddaef9f2",
   "metadata": {},
   "outputs": [
    {
     "data": {
      "text/plain": [
       "0.7613375070663615"
      ]
     },
     "execution_count": 37,
     "metadata": {},
     "output_type": "execute_result"
    }
   ],
   "source": [
    "r2 = r2_score(y_test, y_pred_ratings)\n",
    "r2"
   ]
  },
  {
   "cell_type": "code",
   "execution_count": 38,
   "id": "300f56f7",
   "metadata": {},
   "outputs": [
    {
     "data": {
      "image/png": "[encoded data removed]",
      "text/plain": [
       "<Figure size 360x360 with 1 Axes>"
      ]
     },
     "metadata": {
      "needs_background": "light"
     },
     "output_type": "display_data"
    }
   ],
   "source": [
    "df2 = pd.DataFrame({'Actual': y_test.flatten(), 'Predicted': y_pred_ratings.flatten()})\n",
    "\n",
    "# create a scatter plot with a regression line\n",
    "sns.lmplot(x='Actual', y='Predicted', data=df2, line_kws={'color': 'red'},scatter_kws={'s': 10})\n",
    "\n",
    "# set the x and y-axis labels\n",
    "plt.xlabel('Actual Ratings')\n",
    "plt.ylabel('Predicted Ratings')\n",
    "\n",
    "# set the plot title\n",
    "plt.title('Actual vs. Predicted Ratings')\n",
    "\n",
    "# display the plot\n",
    "plt.show()"
   ]
  },
  {
   "cell_type": "markdown",
   "id": "ff444d0d",
   "metadata": {},
   "source": [
    "# Building Recommendation System From Model "
   ]
  },
  {
   "cell_type": "code",
   "execution_count": 39,
   "id": "4a64c7e0",
   "metadata": {},
   "outputs": [],
   "source": [
    "model = load_model(\"beer_nn\")"
   ]
  },
  {
   "cell_type": "code",
   "execution_count": 40,
   "id": "da16e014",
   "metadata": {},
   "outputs": [
    {
     "data": {
      "text/plain": [
       "Index(['Name', 'Style', 'Brewery', 'Beer Name (Full)', 'Description', 'ABV',\n",
       "       'Min IBU', 'Max IBU', 'Astringency', 'Body', 'Alcohol', 'Bitter',\n",
       "       'Sweet', 'Sour', 'Salty', 'Fruits', 'Hoppy', 'Spices', 'Malty',\n",
       "       'review_aroma', 'review_appearance', 'review_palate', 'review_taste',\n",
       "       'review_overall', 'number_of_reviews'],\n",
       "      dtype='object')"
      ]
     },
     "execution_count": 40,
     "metadata": {},
     "output_type": "execute_result"
    }
   ],
   "source": [
    "df.columns"
   ]
  },
  {
   "cell_type": "markdown",
   "id": "eee689ef",
   "metadata": {},
   "source": [
    "First, we just want to test a basic recommendation system. To do this, we will only heavily weigh the what we believe is the most important feature, the alcohol percentage. For the rest of the features, we will just use the mean values of the dataset to input to our model."
   ]
  },
  {
   "cell_type": "code",
   "execution_count": 41,
   "id": "fd9ebe3c",
   "metadata": {},
   "outputs": [
    {
     "name": "stderr",
     "output_type": "stream",
     "text": [
      "/tmp/ipykernel_104273/1450019571.py:1: FutureWarning: The default value of numeric_only in DataFrame.mean is deprecated. In a future version, it will default to False. In addition, specifying 'numeric_only=None' is deprecated. Select only valid columns or specify the value of numeric_only to silence this warning.\n",
      "  feature_means = df.mean()\n"
     ]
    }
   ],
   "source": [
    "feature_means = df.mean()"
   ]
  },
  {
   "cell_type": "markdown",
   "id": "b86460b7",
   "metadata": {},
   "source": [
    "Getting the ABV level you want"
   ]
  },
  {
   "cell_type": "code",
   "execution_count": 42,
   "id": "76adbd47",
   "metadata": {},
   "outputs": [
    {
     "name": "stdout",
     "output_type": "stream",
     "text": [
      "What alcohol percentage (0-100) do you want? 6.9\n"
     ]
    }
   ],
   "source": [
    "abv_input = float(input('What alcohol percentage (0-100) do you want? '))"
   ]
  },
  {
   "cell_type": "markdown",
   "id": "9671534a",
   "metadata": {},
   "source": [
    "Now, using the model we created earlier, we predict the rating the beer would get with your desired ABV level. Then, we get the top 10 closest beers with that rating, and give you beer with the closest ABV level to what you desired out of those 10 choices."
   ]
  },
  {
   "cell_type": "code",
   "execution_count": 43,
   "id": "ef254791",
   "metadata": {},
   "outputs": [
    {
     "name": "stdout",
     "output_type": "stream",
     "text": [
      "1/1 [==============================] - 0s 105ms/step\n"
     ]
    }
   ],
   "source": [
    "feature_means['ABV'] = abv_input\n",
    "user_input = feature_means.values.reshape(1, -1)\n",
    "beer_ratings = model.predict(user_input)[0][0]"
   ]
  },
  {
   "cell_type": "code",
   "execution_count": 44,
   "id": "00f20cbe",
   "metadata": {},
   "outputs": [
    {
     "data": {
      "text/plain": [
       "3.7244773"
      ]
     },
     "execution_count": 44,
     "metadata": {},
     "output_type": "execute_result"
    }
   ],
   "source": [
    "beer_ratings"
   ]
  },
  {
   "cell_type": "code",
   "execution_count": 45,
   "id": "8205fb50",
   "metadata": {},
   "outputs": [],
   "source": [
    "df['rating_difference'] = abs(df['review_overall'] - beer_ratings)"
   ]
  },
  {
   "cell_type": "code",
   "execution_count": 46,
   "id": "05f53f71",
   "metadata": {},
   "outputs": [],
   "source": [
    "df = df.sort_values('rating_difference')"
   ]
  },
  {
   "cell_type": "code",
   "execution_count": 47,
   "id": "90f3c531",
   "metadata": {},
   "outputs": [],
   "source": [
    "top_ten=df[:10]"
   ]
  },
  {
   "cell_type": "code",
   "execution_count": 48,
   "id": "1b2d1971",
   "metadata": {},
   "outputs": [
    {
     "name": "stderr",
     "output_type": "stream",
     "text": [
      "/tmp/ipykernel_104273/1088758079.py:1: FutureWarning: The behavior of `series[i:j]` with an integer-dtype index is deprecated. In a future version, this will be treated as *label-based* indexing, consistent with e.g. `series[i]` lookups. To retain the old behavior, use `series.iloc[i:j]`. To get the future behavior, use `series.loc[i:j]`.\n",
      "  df_closest = top_ten.iloc[(top_ten['ABV']-abv_input).abs().argsort()[:1]]\n"
     ]
    }
   ],
   "source": [
    "df_closest = top_ten.iloc[(top_ten['ABV']-abv_input).abs().argsort()[:1]]"
   ]
  },
  {
   "cell_type": "code",
   "execution_count": 51,
   "id": "e3f926d0",
   "metadata": {
    "scrolled": true
   },
   "outputs": [
    {
     "data": {
      "text/html": [
       "<div>\n",
       "<style scoped>\n",
       "    .dataframe tbody tr th:only-of-type {\n",
       "        vertical-align: middle;\n",
       "    }\n",
       "\n",
       "    .dataframe tbody tr th {\n",
       "        vertical-align: top;\n",
       "    }\n",
       "\n",
       "    .dataframe thead th {\n",
       "        text-align: right;\n",
       "    }\n",
       "</style>\n",
       "<table border=\"1\" class=\"dataframe\">\n",
       "  <thead>\n",
       "    <tr style=\"text-align: right;\">\n",
       "      <th></th>\n",
       "      <th>Name</th>\n",
       "      <th>Style</th>\n",
       "      <th>Brewery</th>\n",
       "      <th>Beer Name (Full)</th>\n",
       "      <th>Description</th>\n",
       "      <th>ABV</th>\n",
       "      <th>Min IBU</th>\n",
       "      <th>Max IBU</th>\n",
       "      <th>Astringency</th>\n",
       "      <th>Body</th>\n",
       "      <th>...</th>\n",
       "      <th>Hoppy</th>\n",
       "      <th>Spices</th>\n",
       "      <th>Malty</th>\n",
       "      <th>review_aroma</th>\n",
       "      <th>review_appearance</th>\n",
       "      <th>review_palate</th>\n",
       "      <th>review_taste</th>\n",
       "      <th>review_overall</th>\n",
       "      <th>number_of_reviews</th>\n",
       "      <th>rating_difference</th>\n",
       "    </tr>\n",
       "  </thead>\n",
       "  <tbody>\n",
       "    <tr>\n",
       "      <th>284</th>\n",
       "      <td>Emancipator Doppelbock</td>\n",
       "      <td>Bock - Doppelbock</td>\n",
       "      <td>Christian Moerlein Brewing Company</td>\n",
       "      <td>Christian Moerlein Brewing Company Christian M...</td>\n",
       "      <td>Notes:Christian Moerlein Doppelbock is brewed ...</td>\n",
       "      <td>7.0</td>\n",
       "      <td>17</td>\n",
       "      <td>27</td>\n",
       "      <td>17</td>\n",
       "      <td>60</td>\n",
       "      <td>...</td>\n",
       "      <td>35</td>\n",
       "      <td>11</td>\n",
       "      <td>128</td>\n",
       "      <td>3.475</td>\n",
       "      <td>3.775</td>\n",
       "      <td>3.725</td>\n",
       "      <td>3.475</td>\n",
       "      <td>3.725</td>\n",
       "      <td>20</td>\n",
       "      <td>0.000523</td>\n",
       "    </tr>\n",
       "  </tbody>\n",
       "</table>\n",
       "<p>1 rows × 26 columns</p>\n",
       "</div>"
      ],
      "text/plain": [
       "                       Name              Style  \\\n",
       "284  Emancipator Doppelbock  Bock - Doppelbock   \n",
       "\n",
       "                                Brewery  \\\n",
       "284  Christian Moerlein Brewing Company   \n",
       "\n",
       "                                      Beer Name (Full)  \\\n",
       "284  Christian Moerlein Brewing Company Christian M...   \n",
       "\n",
       "                                           Description  ABV  Min IBU  Max IBU  \\\n",
       "284  Notes:Christian Moerlein Doppelbock is brewed ...  7.0       17       27   \n",
       "\n",
       "     Astringency  Body  ...  Hoppy  Spices  Malty  review_aroma  \\\n",
       "284           17    60  ...     35      11    128         3.475   \n",
       "\n",
       "     review_appearance  review_palate  review_taste  review_overall  \\\n",
       "284              3.775          3.725         3.475           3.725   \n",
       "\n",
       "     number_of_reviews  rating_difference  \n",
       "284                 20           0.000523  \n",
       "\n",
       "[1 rows x 26 columns]"
      ]
     },
     "execution_count": 51,
     "metadata": {},
     "output_type": "execute_result"
    }
   ],
   "source": [
    "df_closest"
   ]
  },
  {
   "cell_type": "markdown",
   "id": "9027a9a5",
   "metadata": {},
   "source": [
    "# Conclusion: TODO"
   ]
  }
 ],
 "metadata": {
  "kernelspec": {
   "display_name": "Python 3 (ipykernel)",
   "language": "python",
   "name": "python3"
  },
  "language_info": {
   "codemirror_mode": {
    "name": "ipython",
    "version": 3
   },
   "file_extension": ".py",
   "mimetype": "text/x-python",
   "name": "python",
   "nbconvert_exporter": "python",
   "pygments_lexer": "ipython3",
   "version": "3.9.5"
  }
 },
 "nbformat": 4,
 "nbformat_minor": 5
}
