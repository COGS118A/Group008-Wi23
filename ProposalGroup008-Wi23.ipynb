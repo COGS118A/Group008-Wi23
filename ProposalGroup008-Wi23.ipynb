{
 "cells": [
  {
   "cell_type": "markdown",
   "metadata": {},
   "source": [
    "## Handwritten Classification to Solve CAPTCHAs"
   ]
  },
  {
   "cell_type": "markdown",
   "metadata": {},
   "source": [
    "# Names\n",
    "\n",
    "- George Liu, A15836054\n",
    "- Xinyao Yi, A59019592\n",
    "- Yingnan Yang, A16018172"
   ]
  },
  {
   "cell_type": "markdown",
   "metadata": {},
   "source": [
    "# Abstract \n",
    "\n",
    "Our goal is to build multiple models that accurately classfies handwritten digits and letters and select the best model through understanding how different hyperparameters affect the predictions. From the best model, we will try to solve scrambled number captchas to see how the model performs. \n",
    "\n",
    "We plan to use the MNIST handwritten dataset, which holds data for more than 70,000 images. With our data, we plan to build a baseline model using the k-NN algorithm as well as a fully connected neural network, and then evaluate the error through a variety of metrics, and finally choosing one based on both performance as well as usefulness in the real world (some metrics don't make logical sense b/c of the dataset structure). We will combine this dataset with the EMNIST dataset, which is organized the same way, but consists of 70,0000 handwritten letters.\n",
    "\n",
    "After all this, we will apply our model onto CAPTCHAs that we will build using opencv, by rotating/transforming integer CAPTCHAs to test how accurate the model performs."
   ]
  },
  {
   "cell_type": "markdown",
   "metadata": {},
   "source": [
    "# Background\n",
    "\n",
    "Prior work using this dataset has included deep learning optimization of learning rates, attacks/defenses on adversial training, and large margin classification. In our project, we aim to distiguish the difference between different hyperparameters, including but not limited to speed and accuracy. We test optimizers like rmsprop, adam, and sgd, which are usually variant in speed and generalization but not always (and can also largely depend on the learning rate). This is important for proof of convergence, and dynamic bounds, which in theory are good ideas but need to be tested on simpler, small scale models before being able to be understood and predict how they will react on large scale projects <sup>[1](#adaptivelearningrate)</sup>. In addition, handwritten digits can also be expanded into a broader topic of just handwritten words, and how to classify that. This includes ideas such as encoder/decoder neural networks, which all the parameters build upon the backs of more basic models like our handwritten digit classifiers <sup>[2](#handwritten)</sup>. Since the logic from building ground up is the same, being able to identify which parameters are important to use and how to choose them in our digit classifier is key to success in larger projects.\n",
    "\n",
    "\n",
    "\n",
    "\n"
   ]
  },
  {
   "cell_type": "markdown",
   "metadata": {},
   "source": [
    "# Research Problem\n",
    "\n",
    "Sometimes, when we log into shopping websites or bank accounts online, we are greeted with a CAPTCHA to solve. We want to test how effective these CAPTCHAs actually are at filtering out non human activity. Since we trained our model on both MNIST and EMNIST dataset, our model should theoretically be able to solve CAPTCHA tests.\n",
    "\n",
    "Testing different models with different hyperparameters not only helps determinine the similarity between distinct handwritten digits, but also to understand the different hyperparameters used in our model and how to predict results from them in order to tell when they are useful for further projects.\n",
    "\n",
    "To directly solve our research problem, we will test our model on the CAPTCHAs to see how the model performs."
   ]
  },
  {
   "cell_type": "markdown",
   "metadata": {},
   "source": [
    "# Data\n",
    "\n",
    "Our data is the MNIST dataset which can easily downloaded through tensorflow and keras, which is what we are going to use.\n",
    "Each observation consists of a handwritten digit which can be from 0-9, size 28x28 pixels and 70,000 total images. Here is a link to the [dataset.](https://github.com/tensorflow/datasets/blob/master/tensorflow_datasets/image_classification/mnist.py)\n",
    "Similarly, the EMNIST dataset is available through torchvision. We can download the dataset from there, but need to split the data as well as combine both these datasets together.\n",
    "\n",
    "We will need to normalize the images, meaning rescaling the pixel values so that they are all consistent. Since we are dealing with images, we can just use the pixels as our range. The max value of a pixel is 255, so if we divide each image by 255, the pixels should all be in the range of 0-1.\n",
    "\n",
    "Additionally, the dataset is huge. For knn, this means our training is going to take forever, which is why we randomly sampled a subset of images from the train,val,test sections. We plan to adjust this as we go along. \n",
    "\n",
    "For the neural network, we probably will take a similar approach in sampling the data, but because it is a different model, the training time will differ. Therefore, we will decide when we implement it.\n",
    "\n"
   ]
  },
  {
   "cell_type": "markdown",
   "metadata": {},
   "source": [
    "### Sampling\n",
    "Both of our datasets are huge, which means training kNN is super inefficient. Below we will randomly sample n number of images from the dataset to help speed up the process. With a better GPU and more time, we could use all the data."
   ]
  },
  {
   "cell_type": "code",
   "execution_count": 1,
   "metadata": {},
   "outputs": [],
   "source": [
    "def get_subset_dataset(n_samples,x,y):\n",
    "    \"\"\"\n",
    "    This function simply gets a random subset of n_samples from the dataset. Useful for EMNIST dataset to get a smaller portion\n",
    "    \"\"\"\n",
    "    # needs to be indicies else the relationship between X and y is lost\n",
    "    idx = np.random.choice(x.shape[0], n_samples, replace=False)\n",
    "    idx = np.sort(idx)\n",
    "    return x[idx],y[idx]"
   ]
  },
  {
   "cell_type": "code",
   "execution_count": 2,
   "metadata": {},
   "outputs": [],
   "source": [
    "def get_subset(n_samples, x, y):\n",
    "    \"\"\"\n",
    "    This function gets a random subset of n_samples FROM EACH CLASS in the dataset. Used on the combined dataset\n",
    "    \"\"\"\n",
    "    # Find the unique classes in y\n",
    "    classes = np.unique(y)\n",
    "    # Initialize empty arrays to hold the samples\n",
    "    x_samples = np.empty((0, x.shape[1]), dtype=x.dtype)\n",
    "    y_samples = np.empty((0,), dtype=y.dtype)\n",
    "    # Loop through each class and sample n_samples\n",
    "    for c in classes:\n",
    "        idx = np.where(y == c)[0]\n",
    "        x_c, y_c = get_subset_dataset(n_samples, x[idx], y[idx])\n",
    "        x_samples = np.concatenate((x_samples, x_c), axis=0)\n",
    "        y_samples = np.concatenate((y_samples, y_c), axis=0)\n",
    "    return x_samples, y_samples"
   ]
  },
  {
   "cell_type": "code",
   "execution_count": 3,
   "metadata": {},
   "outputs": [],
   "source": [
    "\n",
    "# def get_subset(n_samples, x, y):\n",
    "#     \"\"\"\n",
    "#     This function gets a random subset of n_samples FROM EACH CLASS in the dataset. Used on the combined dataset\n",
    "#     \"\"\"\n",
    "#     # Find the unique classes in y\n",
    "#     classes = np.unique(y)\n",
    "#     # Initialize empty arrays to hold the samples\n",
    "#     x_samples = np.empty((0, x.shape[1]), dtype=x.dtype)\n",
    "#     y_samples = np.empty((0,), dtype=y.dtype)\n",
    "#     # Loop through each class and sample n_samples\n",
    "#     for c in classes:\n",
    "#         idx = np.where(y == c)[0]\n",
    "#         idx_samples = np.random.choice(idx, n_samples, replace=False)\n",
    "#         x_c = x[idx_samples]\n",
    "#         y_c = y[idx_samples]\n",
    "#         x_samples = np.concatenate((x_samples, x_c), axis=0)\n",
    "#         y_samples = np.concatenate((y_samples, y_c), axis=0)\n",
    "#     return x_samples, y_samples"
   ]
  },
  {
   "cell_type": "markdown",
   "metadata": {},
   "source": [
    "#### Preprocessing EMNIST dataset"
   ]
  },
  {
   "cell_type": "code",
   "execution_count": 4,
   "metadata": {},
   "outputs": [],
   "source": [
    "import torch\n",
    "import torchvision\n",
    "import torchvision.transforms as transforms\n",
    "import numpy as np\n",
    "\n",
    "# Define the data transformation\n",
    "transform = transforms.Compose([transforms.ToTensor(),\n",
    "                                transforms.Normalize((0.1307,), (0.3081,))])\n",
    "\n",
    "\n",
    "# Load the EMNIST dataset\n",
    "emnist_trainset = torchvision.datasets.EMNIST(root='./data', split='letters', train=True,\n",
    "                                              download=True, transform=transform)\n",
    "emnist_testset = torchvision.datasets.EMNIST(root='./data', split='letters', train=False,\n",
    "                                             download=True, transform=transform)"
   ]
  },
  {
   "cell_type": "code",
   "execution_count": 5,
   "metadata": {},
   "outputs": [],
   "source": [
    "x_train_emnist = emnist_trainset.data.numpy().astype('float32') / 255.0\n",
    "x_test_emnist = emnist_testset.data.numpy().astype('float32') / 255.0\n",
    "y_train_emnist = emnist_trainset.targets.numpy()\n",
    "y_test_emnist = emnist_testset.targets.numpy()"
   ]
  },
  {
   "cell_type": "code",
   "execution_count": 6,
   "metadata": {},
   "outputs": [],
   "source": [
    "x_train_emnist = np.expand_dims(x_train_emnist, axis=3)\n",
    "x_test_emnist = np.expand_dims(x_test_emnist, axis=3)"
   ]
  },
  {
   "cell_type": "code",
   "execution_count": 7,
   "metadata": {},
   "outputs": [],
   "source": [
    "x_train_emnist = np.squeeze(x_train_emnist, axis=3)\n",
    "x_test_emnist = np.squeeze(x_test_emnist, axis=3)"
   ]
  },
  {
   "cell_type": "code",
   "execution_count": 8,
   "metadata": {},
   "outputs": [],
   "source": [
    "x_train_emnist, y_train_emnist = get_subset_dataset(60000,x_train_emnist,y_train_emnist)\n",
    "x_test_emnist, y_test_emnist = get_subset_dataset(10000,x_test_emnist,y_test_emnist)\n",
    "# NOTE: THIS LINE IS SUPER IMPORTANT OTHERWISE MNIST DIGITS WILL OVERWRITE THESE LABELS\n",
    "y_train_emnist += 10\n",
    "y_test_emnist += 10"
   ]
  },
  {
   "cell_type": "code",
   "execution_count": 9,
   "metadata": {},
   "outputs": [
    {
     "name": "stdout",
     "output_type": "stream",
     "text": [
      "Training set shape: (60000, 28, 28) (60000,)\n",
      "Testing set shape: (10000, 28, 28) (10000,)\n"
     ]
    }
   ],
   "source": [
    "print(\"Training set shape:\", x_train_emnist.shape, y_train_emnist.shape)\n",
    "print(\"Testing set shape:\", x_test_emnist.shape, y_test_emnist.shape)"
   ]
  },
  {
   "cell_type": "code",
   "execution_count": 10,
   "metadata": {},
   "outputs": [
    {
     "data": {
      "text/plain": [
       "array([11, 12, 13, 14, 15, 16, 17, 18, 19, 20, 21, 22, 23, 24, 25, 26, 27,\n",
       "       28, 29, 30, 31, 32, 33, 34, 35, 36])"
      ]
     },
     "execution_count": 10,
     "metadata": {},
     "output_type": "execute_result"
    }
   ],
   "source": [
    "np.unique(y_train_emnist)"
   ]
  },
  {
   "cell_type": "markdown",
   "metadata": {},
   "source": [
    "#### Preprocessing MNIST dataset"
   ]
  },
  {
   "cell_type": "code",
   "execution_count": 11,
   "metadata": {},
   "outputs": [
    {
     "name": "stderr",
     "output_type": "stream",
     "text": [
      "2023-03-04 02:20:21.648310: I tensorflow/core/platform/cpu_feature_guard.cc:193] This TensorFlow binary is optimized with oneAPI Deep Neural Network Library (oneDNN) to use the following CPU instructions in performance-critical operations:  AVX2 FMA\n",
      "To enable them in other operations, rebuild TensorFlow with the appropriate compiler flags.\n",
      "2023-03-04 02:20:23.835143: W tensorflow/compiler/xla/stream_executor/platform/default/dso_loader.cc:64] Could not load dynamic library 'libnvinfer.so.7'; dlerror: libnvinfer.so.7: cannot open shared object file: No such file or directory\n",
      "2023-03-04 02:20:23.835336: W tensorflow/compiler/xla/stream_executor/platform/default/dso_loader.cc:64] Could not load dynamic library 'libnvinfer_plugin.so.7'; dlerror: libnvinfer_plugin.so.7: cannot open shared object file: No such file or directory\n",
      "2023-03-04 02:20:23.835358: W tensorflow/compiler/tf2tensorrt/utils/py_utils.cc:38] TF-TRT Warning: Cannot dlopen some TensorRT libraries. If you would like to use Nvidia GPU with TensorRT, please make sure the missing libraries mentioned above are installed properly.\n"
     ]
    }
   ],
   "source": [
    "import tensorflow as tf\n",
    "from tensorflow.keras.datasets import mnist"
   ]
  },
  {
   "cell_type": "code",
   "execution_count": 12,
   "metadata": {},
   "outputs": [
    {
     "name": "stdout",
     "output_type": "stream",
     "text": [
      "Training set shape: (60000, 28, 28) (60000,)\n",
      "Testing set shape: (10000, 28, 28) (10000,)\n"
     ]
    }
   ],
   "source": [
    "(x_train_mnist, y_train_mnist), (x_test_mnist, y_test_mnist) = mnist.load_data()\n",
    "x_train_mnist = x_train_mnist.astype('float32') / 255.0\n",
    "x_test_mnist = x_test_mnist.astype('float32') / 255.0\n",
    "print(\"Training set shape:\", x_train_mnist.shape, y_train_mnist.shape)\n",
    "print(\"Testing set shape:\", x_test_mnist.shape, y_test_mnist.shape)"
   ]
  },
  {
   "cell_type": "code",
   "execution_count": 13,
   "metadata": {},
   "outputs": [
    {
     "data": {
      "text/plain": [
       "array([0, 1, 2, 3, 4, 5, 6, 7, 8, 9], dtype=uint8)"
      ]
     },
     "execution_count": 13,
     "metadata": {},
     "output_type": "execute_result"
    }
   ],
   "source": [
    "np.unique(y_train_mnist)"
   ]
  },
  {
   "cell_type": "markdown",
   "metadata": {},
   "source": [
    "#### Combining Datasets"
   ]
  },
  {
   "cell_type": "code",
   "execution_count": 14,
   "metadata": {},
   "outputs": [],
   "source": [
    "x_train = np.concatenate((x_train_mnist, x_train_emnist), axis=0)\n",
    "y_train = np.concatenate((y_train_mnist, y_train_emnist), axis=0)\n",
    "x_test = np.concatenate((x_test_mnist, x_test_emnist), axis=0)\n",
    "y_test = np.concatenate((y_test_mnist, y_test_emnist), axis=0)"
   ]
  },
  {
   "cell_type": "code",
   "execution_count": 15,
   "metadata": {},
   "outputs": [
    {
     "data": {
      "text/plain": [
       "array([ 0,  1,  2,  3,  4,  5,  6,  7,  8,  9, 11, 12, 13, 14, 15, 16, 17,\n",
       "       18, 19, 20, 21, 22, 23, 24, 25, 26, 27, 28, 29, 30, 31, 32, 33, 34,\n",
       "       35, 36])"
      ]
     },
     "execution_count": 15,
     "metadata": {},
     "output_type": "execute_result"
    }
   ],
   "source": [
    "np.unique(y_test)"
   ]
  },
  {
   "cell_type": "code",
   "execution_count": 16,
   "metadata": {},
   "outputs": [],
   "source": [
    "def convert_shape(matrix):\n",
    "    \"\"\"\n",
    "    takes in a nx28x28 matrix and converts it into nx784, essentially flattening the array\n",
    "    \"\"\"\n",
    "    samples = matrix.shape[0]\n",
    "    features = matrix.shape[1] * matrix.shape[2]\n",
    "    return matrix.reshape(samples, features)"
   ]
  },
  {
   "cell_type": "code",
   "execution_count": 17,
   "metadata": {
    "scrolled": true
   },
   "outputs": [],
   "source": [
    "x_train = convert_shape(x_train)\n",
    "x_test = convert_shape(x_test)"
   ]
  },
  {
   "cell_type": "code",
   "execution_count": 18,
   "metadata": {},
   "outputs": [],
   "source": [
    "# Getting a subset of dataset for KNN\n",
    "num_samples_per_class = 200\n",
    "x_train_subset, y_train_subset = get_subset(num_samples_per_class, x_train,y_train)\n",
    "x_test_subset, y_test_subset = get_subset(num_samples_per_class, x_test, y_test)"
   ]
  },
  {
   "cell_type": "code",
   "execution_count": 19,
   "metadata": {},
   "outputs": [
    {
     "data": {
      "text/plain": [
       "(7200, 784)"
      ]
     },
     "execution_count": 19,
     "metadata": {},
     "output_type": "execute_result"
    }
   ],
   "source": [
    "x_train_subset.shape"
   ]
  },
  {
   "cell_type": "markdown",
   "metadata": {},
   "source": [
    "# Proposed Solution\n",
    "\n",
    "\n",
    "Since our training data is plentiful, we will first use k-NN as our benchmark model. Our solution is to convert and normalize the images into feature vectors by flattening the image, and then creating a datastructure for all these vectors so it will be efficient to pull out the labels during the test period. Next, we will have to choose different values of k to tune the hyperparameters, and then choose the best k value based on our evaluation metrics.\n",
    "\n",
    "Next, for our neural network, we can just use the same data from our knn model as its been preprocessed. Then, we will design the architecture of the model. We will use adam for our optimizer and the softmax function as our activation function, since it will represent probability for each class. Then, we will compare the predicted label with the true label to see if the loss function is necessary, then finally update the parameters of the model.\n",
    "\n",
    "Finally, we will have to use openCV to alter some of the CAPTCHA tests to only include integers. Then, we can apply things like scaling, rotation, and transformations to test how our model performs on these tests to answer our research question on if CAPTCHA can accurately detect human vs. non human interactions."
   ]
  },
  {
   "cell_type": "markdown",
   "metadata": {},
   "source": [
    "# Evaluation Metrics\n",
    "\n",
    "\n",
    "We are training our handwritten model to test on CAPTCHA. This means that we want to have good balance between precision and recall, which is why F1 score is the best way to evalute our model. For example, if we used an imbalanced model, there would probably be a few digits that the model would be able to predict very well on, and not good on others. So when actually tested in CAPTCHA, the model would only be able to pass specific tests and wouldn't be generalizable. In terms of the f1 score mathematically represented, we just plan to use it how we derived in class, which is (2* Precision *Recall)/(Precision+Recall).\n",
    "\n",
    "\n",
    "We did not choose accuracy as our error metric, because of the possiblity of imbalanced classes in our data. For kNN, we sampled the data randomly so there possibly could be more samples of some digit compared to another, which would skew our accuracy. This isn't a problem for our neural network implementation, but just in case F1 is still the better choice.\n",
    "Something to note is the inherent error in some digits, for example the way 3 and 8 are written are very close, as well as 4 and 9 and 1 and 7. This means that accuracy isn't a great metric, because inside of a high accuracy there could be high error rates for some classes and low error rates for other classes. Using f1 score would be a good solution to this, as well as displaying the error rates for each class.\n",
    "\n",
    "For our final results to answer our research problem, we will just evaluate the model's performance on CAPTCHAs using accuracy, whether the model passes the test or not.\n"
   ]
  },
  {
   "cell_type": "markdown",
   "metadata": {},
   "source": [
    "# Preliminary results\n",
    "\n"
   ]
  },
  {
   "cell_type": "code",
   "execution_count": 20,
   "metadata": {},
   "outputs": [],
   "source": [
    "import seaborn as sns\n",
    "from sklearn.neighbors import KNeighborsClassifier\n",
    "from sklearn.metrics import accuracy_score\n",
    "import matplotlib.pyplot as plt\n",
    "from sklearn.metrics import confusion_matrix, plot_confusion_matrix"
   ]
  },
  {
   "cell_type": "code",
   "execution_count": 21,
   "metadata": {},
   "outputs": [],
   "source": [
    "knn = KNeighborsClassifier(n_neighbors=3)\n",
    "knn.fit(x_train_subset, y_train_subset)\n",
    "y_pred_test = knn.predict(x_test_subset)"
   ]
  },
  {
   "cell_type": "code",
   "execution_count": 22,
   "metadata": {},
   "outputs": [],
   "source": [
    "cm = confusion_matrix(y_test_subset, y_pred_test)"
   ]
  },
  {
   "cell_type": "markdown",
   "metadata": {},
   "source": [
    "#### Getting Some Error Metrics"
   ]
  },
  {
   "cell_type": "code",
   "execution_count": 23,
   "metadata": {},
   "outputs": [],
   "source": [
    "def get_error_counts(conf_matrix):\n",
    "    num_classes = conf_matrix.shape[0]\n",
    "    error_counts = []\n",
    "    for i in range(num_classes):\n",
    "        digit_errors = 0\n",
    "        for j in range(num_classes):\n",
    "            if i != j:\n",
    "                digit_errors += conf_matrix[j][i]\n",
    "        error_counts.append(digit_errors)\n",
    "    return error_counts"
   ]
  },
  {
   "cell_type": "code",
   "execution_count": 24,
   "metadata": {},
   "outputs": [],
   "source": [
    "def get_error_metrics(conf_matrix):\n",
    "    TP = np.diag(conf_matrix)\n",
    "    FP = np.sum(conf_matrix, axis=0) - TP\n",
    "    FN = np.sum(conf_matrix, axis=1) - TP\n",
    "    TN = np.sum(conf_matrix) - TP - FP - FN\n",
    "    return TP,FP,FN,TN"
   ]
  },
  {
   "cell_type": "code",
   "execution_count": 25,
   "metadata": {},
   "outputs": [],
   "source": [
    "def get_accuracy_rate(conf_matrix):\n",
    "    TP,FP,FN,TN = get_error_metrics(conf_matrix)\n",
    "    return (TP + TN) / (TP + TN + FP + FN)"
   ]
  },
  {
   "cell_type": "code",
   "execution_count": 26,
   "metadata": {},
   "outputs": [],
   "source": [
    "def get_F1_score(conf_matrix):\n",
    "    TP,FP,FN,TN = get_error_metrics(conf_matrix)\n",
    "    precision = TP / (TP + FP)\n",
    "    recall = TP / (TP + FN)\n",
    "    return (2 * precision * recall) / (precision + recall)"
   ]
  },
  {
   "cell_type": "markdown",
   "metadata": {},
   "source": [
    "#### Accuracy of Baseline kNN:"
   ]
  },
  {
   "cell_type": "code",
   "execution_count": 27,
   "metadata": {
    "scrolled": true
   },
   "outputs": [
    {
     "data": {
      "text/plain": [
       "array([0.98666667, 0.98861111, 0.98972222, 0.99180556, 0.9925    ,\n",
       "       0.99263889, 0.99541667, 0.99305556, 0.99305556, 0.99152778,\n",
       "       0.97666667, 0.9875    , 0.98416667, 0.98597222, 0.98875   ,\n",
       "       0.98263889, 0.97763889, 0.98347222, 0.96555556, 0.98777778,\n",
       "       0.98666667, 0.96597222, 0.99458333, 0.98305556, 0.98055556,\n",
       "       0.98708333, 0.97875   , 0.98347222, 0.99444444, 0.98430556,\n",
       "       0.98680556, 0.98736111, 0.99430556, 0.99013889, 0.98569444,\n",
       "       0.99444444])"
      ]
     },
     "execution_count": 27,
     "metadata": {},
     "output_type": "execute_result"
    }
   ],
   "source": [
    "accuracies = get_accuracy_rate(cm)\n",
    "accuracies"
   ]
  },
  {
   "cell_type": "code",
   "execution_count": 28,
   "metadata": {},
   "outputs": [],
   "source": [
    "# split between digit and letter to better visualize\n",
    "digit_acc = accuracies[:10]\n",
    "letter_acc = accuracies[10:]"
   ]
  },
  {
   "cell_type": "code",
   "execution_count": 29,
   "metadata": {},
   "outputs": [
    {
     "data": {
      "image/png": "[encoded data removed]",
      "text/plain": [
       "<Figure size 432x288 with 1 Axes>"
      ]
     },
     "metadata": {
      "needs_background": "light"
     },
     "output_type": "display_data"
    }
   ],
   "source": [
    "# Plot accuracy by digit\n",
    "plt.bar(range(10), digit_acc)\n",
    "plt.xlabel('Digit')\n",
    "plt.ylabel('Accuracy')\n",
    "plt.title('Accuracy by Digit')\n",
    "plt.ylim(0.98, 1.0)\n",
    "plt.xticks(range(10), range(10))\n",
    "plt.show()"
   ]
  },
  {
   "cell_type": "code",
   "execution_count": 30,
   "metadata": {},
   "outputs": [
    {
     "data": {
      "image/png": "[encoded data removed]",
      "text/plain": [
       "<Figure size 432x288 with 1 Axes>"
      ]
     },
     "metadata": {
      "needs_background": "light"
     },
     "output_type": "display_data"
    }
   ],
   "source": [
    "alphabet = [chr(i) for i in range(65, 91)]\n",
    "# Plot accuracy by letter\n",
    "plt.bar(range(26), letter_acc)\n",
    "plt.xticks(range(26), alphabet)\n",
    "plt.xlabel('Digit')\n",
    "plt.ylabel('Accuracy')\n",
    "plt.title('Accuracy by Letter')\n",
    "plt.ylim(0.95, 1.0)\n",
    "plt.show()"
   ]
  },
  {
   "cell_type": "markdown",
   "metadata": {},
   "source": [
    "#### F1 Score of Baseline kNN:"
   ]
  },
  {
   "cell_type": "code",
   "execution_count": 31,
   "metadata": {},
   "outputs": [],
   "source": [
    "F1_score = get_F1_score(cm)\n",
    "digit_F1_score = F1_score[:10]\n",
    "letter_F1_score = F1_score[10:]"
   ]
  },
  {
   "cell_type": "code",
   "execution_count": 37,
   "metadata": {},
   "outputs": [
    {
     "data": {
      "image/png": "[encoded data removed]",
      "text/plain": [
       "<Figure size 432x288 with 1 Axes>"
      ]
     },
     "metadata": {
      "needs_background": "light"
     },
     "output_type": "display_data"
    }
   ],
   "source": [
    "# Plot accuracy by digit\n",
    "plt.bar(range(10), digit_F1_score)\n",
    "plt.xlabel('Digit')\n",
    "plt.ylabel('F1 Score')\n",
    "plt.title('F1 score by Digit')\n",
    "plt.xticks(range(10), range(10))\n",
    "plt.show()"
   ]
  },
  {
   "cell_type": "code",
   "execution_count": 38,
   "metadata": {},
   "outputs": [
    {
     "data": {
      "image/png": "[encoded data removed]",
      "text/plain": [
       "<Figure size 432x288 with 1 Axes>"
      ]
     },
     "metadata": {
      "needs_background": "light"
     },
     "output_type": "display_data"
    }
   ],
   "source": [
    "alphabet = [chr(i) for i in range(65, 91)]\n",
    "# Plot accuracy by letter\n",
    "plt.bar(range(26), letter_F1_score)\n",
    "plt.xticks(range(26), alphabet)\n",
    "plt.xlabel('Digit')\n",
    "plt.ylabel('F1 score')\n",
    "plt.title('F1 Score by Letter')\n",
    "plt.show()"
   ]
  },
  {
   "cell_type": "markdown",
   "metadata": {},
   "source": [
    "#### Visualization of Confusion matrix and Errors by Digit:"
   ]
  },
  {
   "cell_type": "code",
   "execution_count": 34,
   "metadata": {},
   "outputs": [
    {
     "data": {
      "text/plain": [
       "<AxesSubplot:>"
      ]
     },
     "execution_count": 34,
     "metadata": {},
     "output_type": "execute_result"
    },
    {
     "data": {
      "image/png": "[encoded data removed]",
      "text/plain": [
       "<Figure size 432x288 with 2 Axes>"
      ]
     },
     "metadata": {
      "needs_background": "light"
     },
     "output_type": "display_data"
    }
   ],
   "source": [
    "sns.heatmap(cm, annot=False, cmap='Blues')"
   ]
  },
  {
   "cell_type": "code",
   "execution_count": 35,
   "metadata": {},
   "outputs": [
    {
     "data": {
      "image/png": "[encoded data removed]",
      "text/plain": [
       "<Figure size 432x288 with 1 Axes>"
      ]
     },
     "metadata": {
      "needs_background": "light"
     },
     "output_type": "display_data"
    }
   ],
   "source": [
    "error_counts = get_error_counts(cm)\n",
    "\n",
    "# Plot errors for mnist digits\n",
    "plt.bar(range(10), 100*(np.array(error_counts[:10])/num_samples_per_class))\n",
    "plt.xlabel('Digit')\n",
    "plt.ylabel('Percentage of Errors')\n",
    "plt.title('Error Percent of Each Digit')\n",
    "plt.xticks(range(10), range(10))\n",
    "plt.show()"
   ]
  },
  {
   "cell_type": "code",
   "execution_count": 36,
   "metadata": {},
   "outputs": [
    {
     "data": {
      "image/png": "[encoded data removed]",
      "text/plain": [
       "<Figure size 432x288 with 1 Axes>"
      ]
     },
     "metadata": {
      "needs_background": "light"
     },
     "output_type": "display_data"
    }
   ],
   "source": [
    "# Plot errors for emnist letters\n",
    "plt.bar(range(26), 100*(np.array(error_counts[10:])/num_samples_per_class))\n",
    "plt.xlabel('Letter')\n",
    "plt.ylabel('Percentage of Errors')\n",
    "plt.title('Error Percent of Each Letter')\n",
    "plt.xticks(range(26), alphabet)\n",
    "plt.show()"
   ]
  },
  {
   "cell_type": "markdown",
   "metadata": {},
   "source": [
    "This is our preliminary results, we will improve the knn model through:\n",
    "\n",
    "Cross-validation: Instead of splitting the data into a single training and testing set, we can use cross-validation to evaluate the model's performance on multiple test sets. This can provide a more robust estimate of the model's accuracy and help to prevent overfitting.\n",
    "\n",
    "Feature scaling: it is important to ensure that all features contribute equally to the distance calculation. We can use scikit-learn's MinMaxScaler to scale the features to a common range.\n",
    "\n",
    "Hyperparameter tuning: The k-NN algorithm has a hyperparameter k, which specifies the number of neighbors to consider when making a prediction. The optimal value of k can depend on the specific dataset and problem, so it's a good idea to tune this parameter using techniques such as grid search or randomized search.\n",
    "\n",
    "Distance metric: The choice of distance metric can also have a significant impact on the performance of the k-NN algorithm. By default, scikit-learn uses the Euclidean distance metric, but other metrics such as Manhattan distance or cosine distance may be more appropriate for certain problems.\n",
    "\n",
    "In our confusion matrix, we can see the number of correctly classified images for each digits, as well as a bar graph to better represent. From our basic model, digits 2 and 8 seems to produce the most errors, while 1 is the most accurate digit.\n",
    "\n",
    "These are all things that we will implement in our knn model, before we design the neural network.\n"
   ]
  },
  {
   "cell_type": "markdown",
   "metadata": {},
   "source": [
    "# Ethics & Privacy"
   ]
  },
  {
   "cell_type": "markdown",
   "metadata": {},
   "source": [
    "\n",
    "One ethical concern we have with the MNIST dataset is the potential of bias within the dataset. What we mean by this is that there may be more samples of a certain digit compared to the rest, resulting in poor performance in that digit. Further, the intention of building this model using the MNIST dataset is to expand it to real applications, such as banks. With an architecture/evaluation metric that doesn't put weight on false positives, this could be lead to really catastrophic errors in the banking industry. For example, misidentifying a 4 or 9 can be a large difference, especially if it's a number like 400000 to 90000.\n",
    "\n",
    "We plan to address this issue of bias by testing different model parameters such as data augmentation as well as changing the sampling strategy. For the other concern, we plan to use metrics that put weight on false postivies, including precision and f1 score. Then, we will use similarity metrics to actually see which digits are the most prone to these mistakes to allow this knowledge to be more widespread."
   ]
  },
  {
   "cell_type": "markdown",
   "metadata": {},
   "source": [
    "# Team Expectations "
   ]
  },
  {
   "cell_type": "markdown",
   "metadata": {},
   "source": [
    "\n",
    "* Be available on the weekends to work together if neccessary, otherwise individually complete assigned work during weekday\n",
    "* Inform all team members through group chat on updates/something is pushed to github\n",
    "* Finish all required parts at least 2 days before deadline is due"
   ]
  },
  {
   "cell_type": "markdown",
   "metadata": {},
   "source": [
    "# Project Timeline Proposal"
   ]
  },
  {
   "cell_type": "markdown",
   "metadata": {},
   "source": [
    "\n",
    "\n",
    "| Meeting Date  | Meeting Time| Completed Before Meeting  | Discuss at Meeting |\n",
    "|---|---|---|---|\n",
    "| 2/16  |  1 PM |  Brainstorm topics/questions (all)  | Determine best form of communication; Discuss and decide on final project topic; discuss hypothesis; begin background research | \n",
    "| 2/17  |  10 AM |  Do background research on topic and come up with basic KNN model (George) | Discuss ideal dataset(s) and ethics; draft project proposal | \n",
    "| 2/17  | 10 PM  | Edit, finalize, and submit proposal; Search for datasets (Xinyao/Yingnan)  | Assign group members to lead each specific part   |\n",
    "| 3/1  | 6 PM  | Begin Neural Network architecture design/programming(George) | Discuss Analysis Plan   |\n",
    "| 3/2  | 12 PM  | Improve knn w/different parameters, explain changes (Yingnan) | Discuss/edit project code; Complete project |\n",
    "| 3/12  | 12 PM  | Complete analysis; Draft results/conclusion/discussion (Xinyao)| Discuss/edit full project |\n",
    "| 3/19  | Before 11:59 PM  | NA | Turn in Final Project  |"
   ]
  },
  {
   "cell_type": "markdown",
   "metadata": {},
   "source": [
    "# Footnotes\n",
    "\n",
    "<a name=\"adaptivelearningrate\">1</a>: Luo, Liangchen (2019) Adaptive Gradient Methods with Dynamic Bound of Learning Rate. *ICLR 2019*. https://paperswithcode.com/paper/adaptive-gradient-methods-with-dynamic-bound<br> \n",
    "\n",
    "<a name=\"handwritten\">2</a>: Matcha, Anil. 22 August 2022. How to easily do Handwriting Recognition using Machine Learning. *Nanonets*. https://nanonets.com/blog/handwritten-character-recognition/<br> "
   ]
  }
 ],
 "metadata": {
  "kernelspec": {
   "display_name": "Python 3 (ipykernel)",
   "language": "python",
   "name": "python3"
  },
  "language_info": {
   "codemirror_mode": {
    "name": "ipython",
    "version": 3
   },
   "file_extension": ".py",
   "mimetype": "text/x-python",
   "name": "python",
   "nbconvert_exporter": "python",
   "pygments_lexer": "ipython3",
   "version": "3.9.5"
  }
 },
 "nbformat": 4,
 "nbformat_minor": 2
}
